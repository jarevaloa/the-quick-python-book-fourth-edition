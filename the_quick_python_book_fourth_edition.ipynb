{
  "nbformat": 4,
  "nbformat_minor": 0,
  "metadata": {
    "colab": {
      "provenance": [],
      "authorship_tag": "ABX9TyMJea8ZlB52x1HS2sWuFWV/",
      "include_colab_link": true
    },
    "kernelspec": {
      "name": "python3",
      "display_name": "Python 3"
    },
    "language_info": {
      "name": "python"
    }
  },
  "cells": [
    {
      "cell_type": "markdown",
      "metadata": {
        "id": "view-in-github",
        "colab_type": "text"
      },
      "source": [
        "<a href=\"https://colab.research.google.com/github/jarevaloa/the-quick-python-book-fourth-edition/blob/main/the_quick_python_book_fourth_edition.ipynb\" target=\"_parent\"><img src=\"https://colab.research.google.com/assets/colab-badge.svg\" alt=\"Open In Colab\"/></a>"
      ]
    },
    {
      "cell_type": "markdown",
      "source": [
        "###3.2.2 List"
      ],
      "metadata": {
        "id": "NrNe-2sB3WRz"
      }
    },
    {
      "cell_type": "code",
      "execution_count": 4,
      "metadata": {
        "colab": {
          "base_uri": "https://localhost:8080/"
        },
        "id": "c80m2C3h3RfT",
        "outputId": "c8174857-9e87-457b-cdbc-c754491cf6c8"
      },
      "outputs": [
        {
          "output_type": "execute_result",
          "data": {
            "text/plain": [
              "[1, 'two', 3, 4.0, ['a', 'b'], (5, 6)]"
            ]
          },
          "metadata": {},
          "execution_count": 4
        }
      ],
      "source": [
        "[]\n",
        "[1]\n",
        "[1, 2, 3, 4, 5, 6, 7, 8, 9]\n",
        "[1, \"two\", 3, 4.0, [\"a\", \"b\"], (5, 6)]"
      ]
    },
    {
      "cell_type": "code",
      "source": [
        "x = [\"first\", \"second\", \"third\", \"fourth\"]\n",
        "x[0]"
      ],
      "metadata": {
        "colab": {
          "base_uri": "https://localhost:8080/",
          "height": 35
        },
        "id": "owG1X2B84fcu",
        "outputId": "ea04a3ec-0a5d-4c90-9787-226832051dcc"
      },
      "execution_count": 6,
      "outputs": [
        {
          "output_type": "execute_result",
          "data": {
            "text/plain": [
              "'first'"
            ],
            "application/vnd.google.colaboratory.intrinsic+json": {
              "type": "string"
            }
          },
          "metadata": {},
          "execution_count": 6
        }
      ]
    },
    {
      "cell_type": "code",
      "source": [
        "x[2]"
      ],
      "metadata": {
        "colab": {
          "base_uri": "https://localhost:8080/",
          "height": 35
        },
        "id": "Wy3a3Spi4jy9",
        "outputId": "36be9e60-df5e-4243-f301-f27573713b71"
      },
      "execution_count": 7,
      "outputs": [
        {
          "output_type": "execute_result",
          "data": {
            "text/plain": [
              "'third'"
            ],
            "application/vnd.google.colaboratory.intrinsic+json": {
              "type": "string"
            }
          },
          "metadata": {},
          "execution_count": 7
        }
      ]
    },
    {
      "cell_type": "code",
      "source": [
        "x[-1]"
      ],
      "metadata": {
        "colab": {
          "base_uri": "https://localhost:8080/",
          "height": 35
        },
        "id": "gucpfVd54oTs",
        "outputId": "0ee864e1-e35a-4367-8187-22e3d9115f5f"
      },
      "execution_count": 8,
      "outputs": [
        {
          "output_type": "execute_result",
          "data": {
            "text/plain": [
              "'fourth'"
            ],
            "application/vnd.google.colaboratory.intrinsic+json": {
              "type": "string"
            }
          },
          "metadata": {},
          "execution_count": 8
        }
      ]
    },
    {
      "cell_type": "code",
      "source": [
        "x[-2]"
      ],
      "metadata": {
        "colab": {
          "base_uri": "https://localhost:8080/",
          "height": 35
        },
        "id": "ZJ9hxzqo4sD0",
        "outputId": "b6fea2b1-ed51-4354-9445-09df0b7014dc"
      },
      "execution_count": 9,
      "outputs": [
        {
          "output_type": "execute_result",
          "data": {
            "text/plain": [
              "'third'"
            ],
            "application/vnd.google.colaboratory.intrinsic+json": {
              "type": "string"
            }
          },
          "metadata": {},
          "execution_count": 9
        }
      ]
    },
    {
      "cell_type": "code",
      "source": [
        "x[1:-1]"
      ],
      "metadata": {
        "colab": {
          "base_uri": "https://localhost:8080/"
        },
        "id": "5DWhi6794t4s",
        "outputId": "9f8b3a55-d58f-4040-f71b-23d638e74ed3"
      },
      "execution_count": 10,
      "outputs": [
        {
          "output_type": "execute_result",
          "data": {
            "text/plain": [
              "['second', 'third']"
            ]
          },
          "metadata": {},
          "execution_count": 10
        }
      ]
    },
    {
      "cell_type": "code",
      "source": [
        "x[0:3]"
      ],
      "metadata": {
        "colab": {
          "base_uri": "https://localhost:8080/"
        },
        "id": "UE9ga3QV40vZ",
        "outputId": "ab04c3b3-e2b8-47b3-d446-18a954d65b5c"
      },
      "execution_count": 11,
      "outputs": [
        {
          "output_type": "execute_result",
          "data": {
            "text/plain": [
              "['first', 'second', 'third']"
            ]
          },
          "metadata": {},
          "execution_count": 11
        }
      ]
    },
    {
      "cell_type": "code",
      "source": [
        "x[-2:-1]"
      ],
      "metadata": {
        "colab": {
          "base_uri": "https://localhost:8080/"
        },
        "id": "4S-yecVV47KZ",
        "outputId": "6396ed8a-8107-4356-8fff-d64b6ad738c9"
      },
      "execution_count": 12,
      "outputs": [
        {
          "output_type": "execute_result",
          "data": {
            "text/plain": [
              "['third']"
            ]
          },
          "metadata": {},
          "execution_count": 12
        }
      ]
    },
    {
      "cell_type": "code",
      "source": [
        "x[:3]"
      ],
      "metadata": {
        "colab": {
          "base_uri": "https://localhost:8080/"
        },
        "id": "YX6HKuXq5Dww",
        "outputId": "b67c3fae-372b-4326-e032-866715b3c872"
      },
      "execution_count": 13,
      "outputs": [
        {
          "output_type": "execute_result",
          "data": {
            "text/plain": [
              "['first', 'second', 'third']"
            ]
          },
          "metadata": {},
          "execution_count": 13
        }
      ]
    },
    {
      "cell_type": "code",
      "source": [
        "x[-2:]"
      ],
      "metadata": {
        "colab": {
          "base_uri": "https://localhost:8080/"
        },
        "id": "o7S1eLQS5ILk",
        "outputId": "3fb4d392-adb5-4b43-f524-260c5641996a"
      },
      "execution_count": 14,
      "outputs": [
        {
          "output_type": "execute_result",
          "data": {
            "text/plain": [
              "['third', 'fourth']"
            ]
          },
          "metadata": {},
          "execution_count": 14
        }
      ]
    },
    {
      "cell_type": "code",
      "source": [
        "x = [1, 2, 3, 4, 5, 6, 7, 8, 9]"
      ],
      "metadata": {
        "id": "n7YEspU25abg"
      },
      "execution_count": 15,
      "outputs": []
    },
    {
      "cell_type": "code",
      "source": [
        "x[1] = \"two\""
      ],
      "metadata": {
        "id": "T7ZB2G2u5cQd"
      },
      "execution_count": 17,
      "outputs": []
    },
    {
      "cell_type": "code",
      "source": [
        "x = [1, 2, 3, 4, 5, 6, 7, 8, 9]\n",
        "x[1] = \"two\"\n",
        "\n",
        "print(x) # [1, 'two', 3, 4, 5, 6, 7, 8, 9]\n",
        "x[8:9] = []\n",
        "print(x) #[1, 'two', 3, 4, 5, 6, 7, 8]\n",
        "x[5:7] = [6.0, 6.5, 7.0]\n",
        "print(x) #[1, 'two', 3, 4, 5, 6.0, 6.5, 7.0, 8]\n",
        "\n",
        "x[5:]"
      ],
      "metadata": {
        "colab": {
          "base_uri": "https://localhost:8080/"
        },
        "id": "s2hUjlTa5jdQ",
        "outputId": "50dc6bc6-6e90-449a-b5d6-71c33f6282a5"
      },
      "execution_count": 27,
      "outputs": [
        {
          "output_type": "stream",
          "name": "stdout",
          "text": [
            "[1, 'two', 3, 4, 5, 6, 7, 8, 9]\n",
            "[1, 'two', 3, 4, 5, 6, 7, 8]\n",
            "[1, 'two', 3, 4, 5, 6.0, 6.5, 7.0, 8]\n"
          ]
        },
        {
          "output_type": "execute_result",
          "data": {
            "text/plain": [
              "[6.0, 6.5, 7.0, 8]"
            ]
          },
          "metadata": {},
          "execution_count": 27
        }
      ]
    },
    {
      "cell_type": "code",
      "source": [
        "x = [1, 2, 3, 4, 5, 6, 7, 8, 9]\n",
        "print(len(x)) #9\n",
        "\n",
        "y = [-1, 0] + x #[-1, 0, 1, 2, 3, 4, 5, 6, 7, 8, 9]\n",
        "print(y)\n",
        "x.reverse()\n",
        "x"
      ],
      "metadata": {
        "colab": {
          "base_uri": "https://localhost:8080/"
        },
        "id": "5vtoeUIU8n_o",
        "outputId": "f4105c40-2bcb-4788-dbe6-edf0574674d1"
      },
      "execution_count": 29,
      "outputs": [
        {
          "output_type": "stream",
          "name": "stdout",
          "text": [
            "9\n",
            "[-1, 0, 1, 2, 3, 4, 5, 6, 7, 8, 9]\n"
          ]
        },
        {
          "output_type": "execute_result",
          "data": {
            "text/plain": [
              "[9, 8, 7, 6, 5, 4, 3, 2, 1]"
            ]
          },
          "metadata": {},
          "execution_count": 29
        }
      ]
    },
    {
      "cell_type": "markdown",
      "source": [
        "### 3.2.3 Tuplas"
      ],
      "metadata": {
        "id": "Urh5qyO79Lek"
      }
    },
    {
      "cell_type": "code",
      "source": [
        "()\n",
        "(1,)\n",
        "(1, 2, 3, 4, 5, 6, 7, 8, 12)\n",
        "(1, \"two\", 3, 4.0, [\"a\", \"b\"], (5, 6))"
      ],
      "metadata": {
        "colab": {
          "base_uri": "https://localhost:8080/"
        },
        "id": "TIlazMPj9OXz",
        "outputId": "8e19c184-a0c9-463d-ab18-e1fb83712dc7"
      },
      "execution_count": 30,
      "outputs": [
        {
          "output_type": "execute_result",
          "data": {
            "text/plain": [
              "(1, 'two', 3, 4.0, ['a', 'b'], (5, 6))"
            ]
          },
          "metadata": {},
          "execution_count": 30
        }
      ]
    },
    {
      "cell_type": "code",
      "source": [
        "x = [1, 2, 3, 4]\n",
        "tuple(x)"
      ],
      "metadata": {
        "colab": {
          "base_uri": "https://localhost:8080/"
        },
        "id": "_eHdrmjx9ZqQ",
        "outputId": "d97382e2-9c2b-47d9-cd31-abfe7474befe"
      },
      "execution_count": 32,
      "outputs": [
        {
          "output_type": "execute_result",
          "data": {
            "text/plain": [
              "(1, 2, 3, 4)"
            ]
          },
          "metadata": {},
          "execution_count": 32
        }
      ]
    },
    {
      "cell_type": "code",
      "source": [
        "x = (1, 2, 3, 4)\n",
        "list(x)"
      ],
      "metadata": {
        "colab": {
          "base_uri": "https://localhost:8080/"
        },
        "id": "EMOELJg39qOD",
        "outputId": "6901fa90-52a8-4152-9706-1626c6bbad5a"
      },
      "execution_count": 33,
      "outputs": [
        {
          "output_type": "execute_result",
          "data": {
            "text/plain": [
              "[1, 2, 3, 4]"
            ]
          },
          "metadata": {},
          "execution_count": 33
        }
      ]
    },
    {
      "cell_type": "markdown",
      "source": [
        "### 3.2.4 Cadenas"
      ],
      "metadata": {
        "id": "g1rQoEDndedl"
      }
    },
    {
      "cell_type": "code",
      "source": [
        "\"A string in double quotes can contain 'single quote' characters.\"\n",
        "'A string in single quotes can contain \"double quote\" characters.'\n",
        "'''\\tA string which starts with a tab; ends with a newline character.\\n'''\n",
        "\"\"\"This is a triple double quoted string - triple quoted strings (single\n",
        "   or double quoted) are only kind that can contain real newlines.\"\"\""
      ],
      "metadata": {
        "colab": {
          "base_uri": "https://localhost:8080/",
          "height": 35
        },
        "id": "xprUXowjdhmS",
        "outputId": "3b767155-b172-4c79-c0dd-753116acc5a7"
      },
      "execution_count": 1,
      "outputs": [
        {
          "output_type": "execute_result",
          "data": {
            "text/plain": [
              "'This is a triple double quoted string - triple quoted strings (single \\n   or double quoted) are only kind that can contain real newlines.'"
            ],
            "application/vnd.google.colaboratory.intrinsic+json": {
              "type": "string"
            }
          },
          "metadata": {},
          "execution_count": 1
        }
      ]
    },
    {
      "cell_type": "code",
      "source": [
        "x = \"live and     let \\t   \\tlive\"\n",
        "print(x.split())\n",
        "print(x)\n",
        "print(type(x))\n",
        "\n",
        "\n",
        "replaced = x.replace(\"    let \\t   \\tlive\", \"enjoy life\")\n",
        "print(replaced)\n",
        "\n",
        "\n",
        "import re\n",
        "regexpr = re.compile(r\"[\\t ]+\")\n",
        "regexpr.sub(\" \", x)"
      ],
      "metadata": {
        "colab": {
          "base_uri": "https://localhost:8080/",
          "height": 105
        },
        "id": "Z9jC0THwdo5Y",
        "outputId": "776863b6-c952-456c-d9d2-e78c13f72391"
      },
      "execution_count": 13,
      "outputs": [
        {
          "output_type": "stream",
          "name": "stdout",
          "text": [
            "['live', 'and', 'let', 'live']\n",
            "live and     let \t   \tlive\n",
            "<class 'str'>\n",
            "live and     let \t   \tlive\n"
          ]
        },
        {
          "output_type": "execute_result",
          "data": {
            "text/plain": [
              "'live and let live'"
            ],
            "application/vnd.google.colaboratory.intrinsic+json": {
              "type": "string"
            }
          },
          "metadata": {},
          "execution_count": 13
        }
      ]
    },
    {
      "cell_type": "code",
      "source": [
        "e = 2.718\n",
        "x = [1, \"two\", 3, 4.0, [\"a\", \"b\"], (5, 6)]\n",
        "print(\"The constant e is:\", e, \"and the list x is:\", x)\n",
        "\n",
        "print(f\"the value of e is: {e}\")\n",
        "\n"
      ],
      "metadata": {
        "colab": {
          "base_uri": "https://localhost:8080/"
        },
        "id": "m_3hdE53hRl0",
        "outputId": "70529160-ff55-4ea5-8828-addf903c04bc"
      },
      "execution_count": 14,
      "outputs": [
        {
          "output_type": "stream",
          "name": "stdout",
          "text": [
            "The constant e is: 2.718 and the list x is: [1, 'two', 3, 4.0, ['a', 'b'], (5, 6)]\n",
            "the value of e is: 2.718\n"
          ]
        }
      ]
    },
    {
      "cell_type": "markdown",
      "source": [
        "# 3.2.5 Diccionarios"
      ],
      "metadata": {
        "id": "c_Hn1zWvhyGj"
      }
    },
    {
      "cell_type": "code",
      "source": [
        "x = {1: \"one\", 2: \"two\"}\n",
        "x[\"first\"] = \"one\"\n",
        "x[(\"Delorme\", \"Ryan\", 1995)] = (1, 2, 3)\n",
        "keys  = list(x.keys())\n",
        "print(keys)\n",
        "print(len(x))\n",
        "\n",
        "x[1]\n",
        "\n",
        "\n",
        "print(x.get(1, \"not available\"))\n",
        "\n",
        "x.get(4, \"not available\")\n",
        "x.get(3, \"not available\")"
      ],
      "metadata": {
        "colab": {
          "base_uri": "https://localhost:8080/",
          "height": 87
        },
        "id": "_ClSfPESiLRN",
        "outputId": "a4f34799-a52d-4cbf-e72f-d8ca4520b1b3"
      },
      "execution_count": 24,
      "outputs": [
        {
          "output_type": "stream",
          "name": "stdout",
          "text": [
            "[1, 2, 'first', ('Delorme', 'Ryan', 1995)]\n",
            "4\n",
            "one\n"
          ]
        },
        {
          "output_type": "execute_result",
          "data": {
            "text/plain": [
              "'not available'"
            ],
            "application/vnd.google.colaboratory.intrinsic+json": {
              "type": "string"
            }
          },
          "metadata": {},
          "execution_count": 24
        }
      ]
    },
    {
      "cell_type": "markdown",
      "source": [
        "# 3.2.6 Sets, frozensets"
      ],
      "metadata": {
        "id": "dBKo1m3jjiH0"
      }
    },
    {
      "cell_type": "code",
      "source": [
        "x = set([1, 2, 3, 1, 3, 5])\n",
        "print(x)\n",
        "\n",
        "print(1 in x)\n",
        "4 in x\n",
        "\n"
      ],
      "metadata": {
        "colab": {
          "base_uri": "https://localhost:8080/"
        },
        "id": "3lp0lgQpjj2E",
        "outputId": "b0db5a48-f3d0-4ea4-f0c0-88a85145da04"
      },
      "execution_count": 27,
      "outputs": [
        {
          "output_type": "stream",
          "name": "stdout",
          "text": [
            "{1, 2, 3, 5}\n",
            "True\n"
          ]
        },
        {
          "output_type": "execute_result",
          "data": {
            "text/plain": [
              "False"
            ]
          },
          "metadata": {},
          "execution_count": 27
        }
      ]
    },
    {
      "cell_type": "markdown",
      "source": [
        "# 3.2.7 File objects"
      ],
      "metadata": {
        "id": "wwCpgksRkROw"
      }
    },
    {
      "cell_type": "code",
      "source": [
        "f = open(\"myfile\", \"w\")\n",
        "f.write(\"First line with necessary newline character\\n\")\n",
        "f.write(\"Second line to write to the file\\n\")\n",
        "\n",
        "f.close()\n",
        "f = open(\"myfile\", \"r\")\n",
        "line1 = f.readline()\n",
        "line2 = f.readline()\n",
        "f.close()\n",
        "print(line1, line2)\n",
        "\n",
        "\n",
        "import os\n",
        "directory = os.getcwd()\n",
        "print(directory)\n",
        "\n",
        "\n",
        "\n",
        "filename = os.path.join(directory, \"myfile\")\n",
        "print(filename)\n",
        "\n",
        "f = open(filename, \"r\")\n",
        "print(f.readline())\n",
        "\n",
        "\n",
        "f.close()"
      ],
      "metadata": {
        "colab": {
          "base_uri": "https://localhost:8080/"
        },
        "id": "e8QmY4efkTG6",
        "outputId": "ca92fcce-9eda-4a16-ace8-e71285f0c4e5"
      },
      "execution_count": 28,
      "outputs": [
        {
          "output_type": "stream",
          "name": "stdout",
          "text": [
            "First line with necessary newline character\n",
            " Second line to write to the file\n",
            "\n",
            "/content\n",
            "/content/myfile\n",
            "First line with necessary newline character\n",
            "\n"
          ]
        }
      ]
    },
    {
      "cell_type": "markdown",
      "source": [
        "# 3.4.2 The if-elif-else statement"
      ],
      "metadata": {
        "id": "VjYriRrVnGqF"
      }
    },
    {
      "cell_type": "code",
      "source": [
        "x = 5\n",
        "if x < 5:\n",
        "    y = -1\n",
        "    z = 5\n",
        "elif x > 5:\n",
        "    y = 1\n",
        "    z = 11\n",
        "else:\n",
        "    y = 0\n",
        "    z = 10\n",
        "print(x, y, z)"
      ],
      "metadata": {
        "colab": {
          "base_uri": "https://localhost:8080/"
        },
        "id": "RYnkMsSenIex",
        "outputId": "144db37e-d318-4b90-e3a5-160750f6ef23"
      },
      "execution_count": 29,
      "outputs": [
        {
          "output_type": "stream",
          "name": "stdout",
          "text": [
            "5 0 10\n"
          ]
        }
      ]
    },
    {
      "cell_type": "markdown",
      "source": [
        "# 3.4.3 Structural pattern matching with match"
      ],
      "metadata": {
        "id": "svfpZfDIoAB4"
      }
    },
    {
      "cell_type": "code",
      "source": [
        "# point is an (x, y) tuple\n",
        "point = (0,10)\n",
        "match point:\n",
        " case (0, 0):\n",
        "  print(\"Origin\")\n",
        " case (0, y):\n",
        "  print(f\"Y={y}\")\n",
        " case (x, 0):\n",
        "  print(f\"X={x}\")\n",
        " case (x, y):\n",
        "  print(f\"X={x}, Y={y}\")\n",
        " case _:\n",
        "  raise ValueError(\"Not a point\")"
      ],
      "metadata": {
        "colab": {
          "base_uri": "https://localhost:8080/"
        },
        "id": "p_HuNXlroCRm",
        "outputId": "4e6a089c-b354-490f-f1ce-a8a5bd3b0346"
      },
      "execution_count": 33,
      "outputs": [
        {
          "output_type": "stream",
          "name": "stdout",
          "text": [
            "Y=10\n"
          ]
        }
      ]
    },
    {
      "cell_type": "markdown",
      "source": [
        "# 3.4.4 The while loop"
      ],
      "metadata": {
        "id": "GCoyymgHrfVs"
      }
    },
    {
      "cell_type": "code",
      "source": [
        "u, v, x, y = 0, 0, 100, 30\n",
        "while x > y:\n",
        "    u = u + y\n",
        "    x = x - y\n",
        "    if x < y + 2:\n",
        "        v = v + x\n",
        "        x = 0\n",
        "    else:\n",
        "        v = v + y + 2\n",
        "        x = x - y - 2\n",
        "print(u, v)"
      ],
      "metadata": {
        "colab": {
          "base_uri": "https://localhost:8080/"
        },
        "id": "qR3sLBCSrhAa",
        "outputId": "266ce1e8-c587-408c-897c-85bd673dd4c7"
      },
      "execution_count": 34,
      "outputs": [
        {
          "output_type": "stream",
          "name": "stdout",
          "text": [
            "60 40\n"
          ]
        }
      ]
    }
  ]
}