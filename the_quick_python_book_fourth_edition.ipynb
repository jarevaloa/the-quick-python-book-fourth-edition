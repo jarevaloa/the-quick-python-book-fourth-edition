{
  "nbformat": 4,
  "nbformat_minor": 0,
  "metadata": {
    "colab": {
      "provenance": [],
      "authorship_tag": "ABX9TyPeFKrm4ZjRQVR86ATWkG/n",
      "include_colab_link": true
    },
    "kernelspec": {
      "name": "python3",
      "display_name": "Python 3"
    },
    "language_info": {
      "name": "python"
    }
  },
  "cells": [
    {
      "cell_type": "markdown",
      "metadata": {
        "id": "view-in-github",
        "colab_type": "text"
      },
      "source": [
        "<a href=\"https://colab.research.google.com/github/jarevaloa/the-quick-python-book-fourth-edition/blob/main/the_quick_python_book_fourth_edition.ipynb\" target=\"_parent\"><img src=\"https://colab.research.google.com/assets/colab-badge.svg\" alt=\"Open In Colab\"/></a>"
      ]
    },
    {
      "cell_type": "markdown",
      "source": [
        "###3.2.2 List"
      ],
      "metadata": {
        "id": "NrNe-2sB3WRz"
      }
    },
    {
      "cell_type": "code",
      "execution_count": null,
      "metadata": {
        "colab": {
          "base_uri": "https://localhost:8080/"
        },
        "id": "c80m2C3h3RfT",
        "outputId": "c8174857-9e87-457b-cdbc-c754491cf6c8"
      },
      "outputs": [
        {
          "output_type": "execute_result",
          "data": {
            "text/plain": [
              "[1, 'two', 3, 4.0, ['a', 'b'], (5, 6)]"
            ]
          },
          "metadata": {},
          "execution_count": 4
        }
      ],
      "source": [
        "[]\n",
        "[1]\n",
        "[1, 2, 3, 4, 5, 6, 7, 8, 9]\n",
        "[1, \"two\", 3, 4.0, [\"a\", \"b\"], (5, 6)]"
      ]
    },
    {
      "cell_type": "code",
      "source": [
        "x = [\"first\", \"second\", \"third\", \"fourth\"]\n",
        "x[0]"
      ],
      "metadata": {
        "colab": {
          "base_uri": "https://localhost:8080/",
          "height": 35
        },
        "id": "owG1X2B84fcu",
        "outputId": "ea04a3ec-0a5d-4c90-9787-226832051dcc"
      },
      "execution_count": null,
      "outputs": [
        {
          "output_type": "execute_result",
          "data": {
            "text/plain": [
              "'first'"
            ],
            "application/vnd.google.colaboratory.intrinsic+json": {
              "type": "string"
            }
          },
          "metadata": {},
          "execution_count": 6
        }
      ]
    },
    {
      "cell_type": "code",
      "source": [
        "x[2]"
      ],
      "metadata": {
        "colab": {
          "base_uri": "https://localhost:8080/",
          "height": 35
        },
        "id": "Wy3a3Spi4jy9",
        "outputId": "36be9e60-df5e-4243-f301-f27573713b71"
      },
      "execution_count": null,
      "outputs": [
        {
          "output_type": "execute_result",
          "data": {
            "text/plain": [
              "'third'"
            ],
            "application/vnd.google.colaboratory.intrinsic+json": {
              "type": "string"
            }
          },
          "metadata": {},
          "execution_count": 7
        }
      ]
    },
    {
      "cell_type": "code",
      "source": [
        "x[-1]"
      ],
      "metadata": {
        "colab": {
          "base_uri": "https://localhost:8080/",
          "height": 35
        },
        "id": "gucpfVd54oTs",
        "outputId": "0ee864e1-e35a-4367-8187-22e3d9115f5f"
      },
      "execution_count": null,
      "outputs": [
        {
          "output_type": "execute_result",
          "data": {
            "text/plain": [
              "'fourth'"
            ],
            "application/vnd.google.colaboratory.intrinsic+json": {
              "type": "string"
            }
          },
          "metadata": {},
          "execution_count": 8
        }
      ]
    },
    {
      "cell_type": "code",
      "source": [
        "x[-2]"
      ],
      "metadata": {
        "colab": {
          "base_uri": "https://localhost:8080/",
          "height": 35
        },
        "id": "ZJ9hxzqo4sD0",
        "outputId": "b6fea2b1-ed51-4354-9445-09df0b7014dc"
      },
      "execution_count": null,
      "outputs": [
        {
          "output_type": "execute_result",
          "data": {
            "text/plain": [
              "'third'"
            ],
            "application/vnd.google.colaboratory.intrinsic+json": {
              "type": "string"
            }
          },
          "metadata": {},
          "execution_count": 9
        }
      ]
    },
    {
      "cell_type": "code",
      "source": [
        "x[1:-1]"
      ],
      "metadata": {
        "colab": {
          "base_uri": "https://localhost:8080/"
        },
        "id": "5DWhi6794t4s",
        "outputId": "9f8b3a55-d58f-4040-f71b-23d638e74ed3"
      },
      "execution_count": null,
      "outputs": [
        {
          "output_type": "execute_result",
          "data": {
            "text/plain": [
              "['second', 'third']"
            ]
          },
          "metadata": {},
          "execution_count": 10
        }
      ]
    },
    {
      "cell_type": "code",
      "source": [
        "x[0:3]"
      ],
      "metadata": {
        "colab": {
          "base_uri": "https://localhost:8080/"
        },
        "id": "UE9ga3QV40vZ",
        "outputId": "ab04c3b3-e2b8-47b3-d446-18a954d65b5c"
      },
      "execution_count": null,
      "outputs": [
        {
          "output_type": "execute_result",
          "data": {
            "text/plain": [
              "['first', 'second', 'third']"
            ]
          },
          "metadata": {},
          "execution_count": 11
        }
      ]
    },
    {
      "cell_type": "code",
      "source": [
        "x[-2:-1]"
      ],
      "metadata": {
        "colab": {
          "base_uri": "https://localhost:8080/"
        },
        "id": "4S-yecVV47KZ",
        "outputId": "6396ed8a-8107-4356-8fff-d64b6ad738c9"
      },
      "execution_count": null,
      "outputs": [
        {
          "output_type": "execute_result",
          "data": {
            "text/plain": [
              "['third']"
            ]
          },
          "metadata": {},
          "execution_count": 12
        }
      ]
    },
    {
      "cell_type": "code",
      "source": [
        "x[:3]"
      ],
      "metadata": {
        "colab": {
          "base_uri": "https://localhost:8080/"
        },
        "id": "YX6HKuXq5Dww",
        "outputId": "b67c3fae-372b-4326-e032-866715b3c872"
      },
      "execution_count": null,
      "outputs": [
        {
          "output_type": "execute_result",
          "data": {
            "text/plain": [
              "['first', 'second', 'third']"
            ]
          },
          "metadata": {},
          "execution_count": 13
        }
      ]
    },
    {
      "cell_type": "code",
      "source": [
        "x[-2:]"
      ],
      "metadata": {
        "colab": {
          "base_uri": "https://localhost:8080/"
        },
        "id": "o7S1eLQS5ILk",
        "outputId": "3fb4d392-adb5-4b43-f524-260c5641996a"
      },
      "execution_count": null,
      "outputs": [
        {
          "output_type": "execute_result",
          "data": {
            "text/plain": [
              "['third', 'fourth']"
            ]
          },
          "metadata": {},
          "execution_count": 14
        }
      ]
    },
    {
      "cell_type": "code",
      "source": [
        "x = [1, 2, 3, 4, 5, 6, 7, 8, 9]"
      ],
      "metadata": {
        "id": "n7YEspU25abg"
      },
      "execution_count": null,
      "outputs": []
    },
    {
      "cell_type": "code",
      "source": [
        "x[1] = \"two\""
      ],
      "metadata": {
        "id": "T7ZB2G2u5cQd"
      },
      "execution_count": null,
      "outputs": []
    },
    {
      "cell_type": "code",
      "source": [
        "x = [1, 2, 3, 4, 5, 6, 7, 8, 9]\n",
        "x[1] = \"two\"\n",
        "\n",
        "print(x) # [1, 'two', 3, 4, 5, 6, 7, 8, 9]\n",
        "x[8:9] = []\n",
        "print(x) #[1, 'two', 3, 4, 5, 6, 7, 8]\n",
        "x[5:7] = [6.0, 6.5, 7.0]\n",
        "print(x) #[1, 'two', 3, 4, 5, 6.0, 6.5, 7.0, 8]\n",
        "\n",
        "x[5:]"
      ],
      "metadata": {
        "colab": {
          "base_uri": "https://localhost:8080/"
        },
        "id": "s2hUjlTa5jdQ",
        "outputId": "50dc6bc6-6e90-449a-b5d6-71c33f6282a5"
      },
      "execution_count": null,
      "outputs": [
        {
          "output_type": "stream",
          "name": "stdout",
          "text": [
            "[1, 'two', 3, 4, 5, 6, 7, 8, 9]\n",
            "[1, 'two', 3, 4, 5, 6, 7, 8]\n",
            "[1, 'two', 3, 4, 5, 6.0, 6.5, 7.0, 8]\n"
          ]
        },
        {
          "output_type": "execute_result",
          "data": {
            "text/plain": [
              "[6.0, 6.5, 7.0, 8]"
            ]
          },
          "metadata": {},
          "execution_count": 27
        }
      ]
    },
    {
      "cell_type": "code",
      "source": [
        "x = [1, 2, 3, 4, 5, 6, 7, 8, 9]\n",
        "print(len(x)) #9\n",
        "\n",
        "y = [-1, 0] + x #[-1, 0, 1, 2, 3, 4, 5, 6, 7, 8, 9]\n",
        "print(y)\n",
        "x.reverse()\n",
        "x"
      ],
      "metadata": {
        "colab": {
          "base_uri": "https://localhost:8080/"
        },
        "id": "5vtoeUIU8n_o",
        "outputId": "f4105c40-2bcb-4788-dbe6-edf0574674d1"
      },
      "execution_count": null,
      "outputs": [
        {
          "output_type": "stream",
          "name": "stdout",
          "text": [
            "9\n",
            "[-1, 0, 1, 2, 3, 4, 5, 6, 7, 8, 9]\n"
          ]
        },
        {
          "output_type": "execute_result",
          "data": {
            "text/plain": [
              "[9, 8, 7, 6, 5, 4, 3, 2, 1]"
            ]
          },
          "metadata": {},
          "execution_count": 29
        }
      ]
    },
    {
      "cell_type": "markdown",
      "source": [
        "### 3.2.3 Tuplas"
      ],
      "metadata": {
        "id": "Urh5qyO79Lek"
      }
    },
    {
      "cell_type": "code",
      "source": [
        "()\n",
        "(1,)\n",
        "(1, 2, 3, 4, 5, 6, 7, 8, 12)\n",
        "(1, \"two\", 3, 4.0, [\"a\", \"b\"], (5, 6))"
      ],
      "metadata": {
        "colab": {
          "base_uri": "https://localhost:8080/"
        },
        "id": "TIlazMPj9OXz",
        "outputId": "8e19c184-a0c9-463d-ab18-e1fb83712dc7"
      },
      "execution_count": null,
      "outputs": [
        {
          "output_type": "execute_result",
          "data": {
            "text/plain": [
              "(1, 'two', 3, 4.0, ['a', 'b'], (5, 6))"
            ]
          },
          "metadata": {},
          "execution_count": 30
        }
      ]
    },
    {
      "cell_type": "code",
      "source": [
        "x = [1, 2, 3, 4]\n",
        "tuple(x)"
      ],
      "metadata": {
        "colab": {
          "base_uri": "https://localhost:8080/"
        },
        "id": "_eHdrmjx9ZqQ",
        "outputId": "d97382e2-9c2b-47d9-cd31-abfe7474befe"
      },
      "execution_count": null,
      "outputs": [
        {
          "output_type": "execute_result",
          "data": {
            "text/plain": [
              "(1, 2, 3, 4)"
            ]
          },
          "metadata": {},
          "execution_count": 32
        }
      ]
    },
    {
      "cell_type": "code",
      "source": [
        "x = (1, 2, 3, 4)\n",
        "list(x)"
      ],
      "metadata": {
        "colab": {
          "base_uri": "https://localhost:8080/"
        },
        "id": "EMOELJg39qOD",
        "outputId": "6901fa90-52a8-4152-9706-1626c6bbad5a"
      },
      "execution_count": null,
      "outputs": [
        {
          "output_type": "execute_result",
          "data": {
            "text/plain": [
              "[1, 2, 3, 4]"
            ]
          },
          "metadata": {},
          "execution_count": 33
        }
      ]
    },
    {
      "cell_type": "markdown",
      "source": [
        "### 3.2.4 Cadenas"
      ],
      "metadata": {
        "id": "g1rQoEDndedl"
      }
    },
    {
      "cell_type": "code",
      "source": [
        "\"A string in double quotes can contain 'single quote' characters.\"\n",
        "'A string in single quotes can contain \"double quote\" characters.'\n",
        "'''\\tA string which starts with a tab; ends with a newline character.\\n'''\n",
        "\"\"\"This is a triple double quoted string - triple quoted strings (single\n",
        "   or double quoted) are only kind that can contain real newlines.\"\"\""
      ],
      "metadata": {
        "colab": {
          "base_uri": "https://localhost:8080/",
          "height": 35
        },
        "id": "xprUXowjdhmS",
        "outputId": "3b767155-b172-4c79-c0dd-753116acc5a7"
      },
      "execution_count": null,
      "outputs": [
        {
          "output_type": "execute_result",
          "data": {
            "text/plain": [
              "'This is a triple double quoted string - triple quoted strings (single \\n   or double quoted) are only kind that can contain real newlines.'"
            ],
            "application/vnd.google.colaboratory.intrinsic+json": {
              "type": "string"
            }
          },
          "metadata": {},
          "execution_count": 1
        }
      ]
    },
    {
      "cell_type": "code",
      "source": [
        "x = \"live and     let \\t   \\tlive\"\n",
        "print(x.split())\n",
        "print(x)\n",
        "print(type(x))\n",
        "\n",
        "\n",
        "replaced = x.replace(\"    let \\t   \\tlive\", \"enjoy life\")\n",
        "print(replaced)\n",
        "\n",
        "\n",
        "import re\n",
        "regexpr = re.compile(r\"[\\t ]+\")\n",
        "regexpr.sub(\" \", x)"
      ],
      "metadata": {
        "colab": {
          "base_uri": "https://localhost:8080/",
          "height": 105
        },
        "id": "Z9jC0THwdo5Y",
        "outputId": "776863b6-c952-456c-d9d2-e78c13f72391"
      },
      "execution_count": null,
      "outputs": [
        {
          "output_type": "stream",
          "name": "stdout",
          "text": [
            "['live', 'and', 'let', 'live']\n",
            "live and     let \t   \tlive\n",
            "<class 'str'>\n",
            "live and     let \t   \tlive\n"
          ]
        },
        {
          "output_type": "execute_result",
          "data": {
            "text/plain": [
              "'live and let live'"
            ],
            "application/vnd.google.colaboratory.intrinsic+json": {
              "type": "string"
            }
          },
          "metadata": {},
          "execution_count": 13
        }
      ]
    },
    {
      "cell_type": "code",
      "source": [
        "e = 2.718\n",
        "x = [1, \"two\", 3, 4.0, [\"a\", \"b\"], (5, 6)]\n",
        "print(\"The constant e is:\", e, \"and the list x is:\", x)\n",
        "\n",
        "print(f\"the value of e is: {e}\")\n",
        "\n"
      ],
      "metadata": {
        "colab": {
          "base_uri": "https://localhost:8080/"
        },
        "id": "m_3hdE53hRl0",
        "outputId": "70529160-ff55-4ea5-8828-addf903c04bc"
      },
      "execution_count": null,
      "outputs": [
        {
          "output_type": "stream",
          "name": "stdout",
          "text": [
            "The constant e is: 2.718 and the list x is: [1, 'two', 3, 4.0, ['a', 'b'], (5, 6)]\n",
            "the value of e is: 2.718\n"
          ]
        }
      ]
    },
    {
      "cell_type": "markdown",
      "source": [
        "# 3.2.5 Diccionarios"
      ],
      "metadata": {
        "id": "c_Hn1zWvhyGj"
      }
    },
    {
      "cell_type": "code",
      "source": [
        "x = {1: \"one\", 2: \"two\"}\n",
        "x[\"first\"] = \"one\"\n",
        "x[(\"Delorme\", \"Ryan\", 1995)] = (1, 2, 3)\n",
        "keys  = list(x.keys())\n",
        "print(keys)\n",
        "print(len(x))\n",
        "\n",
        "x[1]\n",
        "\n",
        "\n",
        "print(x.get(1, \"not available\"))\n",
        "\n",
        "x.get(4, \"not available\")\n",
        "x.get(3, \"not available\")"
      ],
      "metadata": {
        "colab": {
          "base_uri": "https://localhost:8080/",
          "height": 87
        },
        "id": "_ClSfPESiLRN",
        "outputId": "a4f34799-a52d-4cbf-e72f-d8ca4520b1b3"
      },
      "execution_count": null,
      "outputs": [
        {
          "output_type": "stream",
          "name": "stdout",
          "text": [
            "[1, 2, 'first', ('Delorme', 'Ryan', 1995)]\n",
            "4\n",
            "one\n"
          ]
        },
        {
          "output_type": "execute_result",
          "data": {
            "text/plain": [
              "'not available'"
            ],
            "application/vnd.google.colaboratory.intrinsic+json": {
              "type": "string"
            }
          },
          "metadata": {},
          "execution_count": 24
        }
      ]
    },
    {
      "cell_type": "markdown",
      "source": [
        "# 3.2.6 Sets, frozensets"
      ],
      "metadata": {
        "id": "dBKo1m3jjiH0"
      }
    },
    {
      "cell_type": "code",
      "source": [
        "x = set([1, 2, 3, 1, 3, 5])\n",
        "print(x)\n",
        "\n",
        "print(1 in x)\n",
        "4 in x\n",
        "\n"
      ],
      "metadata": {
        "colab": {
          "base_uri": "https://localhost:8080/"
        },
        "id": "3lp0lgQpjj2E",
        "outputId": "b0db5a48-f3d0-4ea4-f0c0-88a85145da04"
      },
      "execution_count": null,
      "outputs": [
        {
          "output_type": "stream",
          "name": "stdout",
          "text": [
            "{1, 2, 3, 5}\n",
            "True\n"
          ]
        },
        {
          "output_type": "execute_result",
          "data": {
            "text/plain": [
              "False"
            ]
          },
          "metadata": {},
          "execution_count": 27
        }
      ]
    },
    {
      "cell_type": "markdown",
      "source": [
        "# 3.2.7 File objects"
      ],
      "metadata": {
        "id": "wwCpgksRkROw"
      }
    },
    {
      "cell_type": "code",
      "source": [
        "f = open(\"myfile\", \"w\")\n",
        "f.write(\"First line with necessary newline character\\n\")\n",
        "f.write(\"Second line to write to the file\\n\")\n",
        "\n",
        "f.close()\n",
        "f = open(\"myfile\", \"r\")\n",
        "line1 = f.readline()\n",
        "line2 = f.readline()\n",
        "f.close()\n",
        "print(line1, line2)\n",
        "\n",
        "\n",
        "import os\n",
        "directory = os.getcwd()\n",
        "print(directory)\n",
        "\n",
        "\n",
        "\n",
        "filename = os.path.join(directory, \"myfile\")\n",
        "print(filename)\n",
        "\n",
        "f = open(filename, \"r\")\n",
        "print(f.readline())\n",
        "\n",
        "\n",
        "f.close()"
      ],
      "metadata": {
        "colab": {
          "base_uri": "https://localhost:8080/"
        },
        "id": "e8QmY4efkTG6",
        "outputId": "35b27e8c-1cd4-4282-92c0-76bc8f93f581"
      },
      "execution_count": null,
      "outputs": [
        {
          "output_type": "stream",
          "name": "stdout",
          "text": [
            "First line with necessary newline character\n",
            " Second line to write to the file\n",
            "\n",
            "/content\n",
            "/content/myfile\n",
            "First line with necessary newline character\n",
            "\n"
          ]
        }
      ]
    },
    {
      "cell_type": "markdown",
      "source": [
        "# 3.4.2 The if-elif-else statement"
      ],
      "metadata": {
        "id": "VjYriRrVnGqF"
      }
    },
    {
      "cell_type": "code",
      "source": [
        "x = 5\n",
        "if x < 5:\n",
        "    y = -1\n",
        "    z = 5\n",
        "elif x > 5:\n",
        "    y = 1\n",
        "    z = 11\n",
        "else:\n",
        "    y = 0\n",
        "    z = 10\n",
        "print(x, y, z)"
      ],
      "metadata": {
        "colab": {
          "base_uri": "https://localhost:8080/"
        },
        "id": "RYnkMsSenIex",
        "outputId": "144db37e-d318-4b90-e3a5-160750f6ef23"
      },
      "execution_count": null,
      "outputs": [
        {
          "output_type": "stream",
          "name": "stdout",
          "text": [
            "5 0 10\n"
          ]
        }
      ]
    },
    {
      "cell_type": "markdown",
      "source": [
        "# 3.4.3 Structural pattern matching with match"
      ],
      "metadata": {
        "id": "svfpZfDIoAB4"
      }
    },
    {
      "cell_type": "code",
      "source": [
        "# point is an (x, y) tuple\n",
        "point = (0,10)\n",
        "match point:\n",
        " case (0, 0):\n",
        "  print(\"Origin\")\n",
        " case (0, y):\n",
        "  print(f\"Y={y}\")\n",
        " case (x, 0):\n",
        "  print(f\"X={x}\")\n",
        " case (x, y):\n",
        "  print(f\"X={x}, Y={y}\")\n",
        " case _:\n",
        "  raise ValueError(\"Not a point\")"
      ],
      "metadata": {
        "colab": {
          "base_uri": "https://localhost:8080/"
        },
        "id": "p_HuNXlroCRm",
        "outputId": "4e6a089c-b354-490f-f1ce-a8a5bd3b0346"
      },
      "execution_count": null,
      "outputs": [
        {
          "output_type": "stream",
          "name": "stdout",
          "text": [
            "Y=10\n"
          ]
        }
      ]
    },
    {
      "cell_type": "markdown",
      "source": [
        "# 3.4.4 The while loop"
      ],
      "metadata": {
        "id": "GCoyymgHrfVs"
      }
    },
    {
      "cell_type": "markdown",
      "source": [
        "El `while` bucle se ejecuta mientras la condición (que aquí es `x > y`) sea `True`"
      ],
      "metadata": {
        "id": "HlNKW3Cs0jIw"
      }
    },
    {
      "cell_type": "code",
      "source": [
        "u, v, x, y = 0, 0, 100, 30\n",
        "while x > y:\n",
        "    u = u + y\n",
        "    x = x - y\n",
        "    if x < y + 2:\n",
        "        v = v + x\n",
        "        x = 0\n",
        "    else:\n",
        "        v = v + y + 2\n",
        "        x = x - y - 2\n",
        "print(u, v)"
      ],
      "metadata": {
        "colab": {
          "base_uri": "https://localhost:8080/"
        },
        "id": "qR3sLBCSrhAa",
        "outputId": "266ce1e8-c587-408c-897c-85bd673dd4c7"
      },
      "execution_count": null,
      "outputs": [
        {
          "output_type": "stream",
          "name": "stdout",
          "text": [
            "60 40\n"
          ]
        }
      ]
    },
    {
      "cell_type": "markdown",
      "source": [
        "# 3.4.5 The for loop"
      ],
      "metadata": {
        "id": "0MwhtUe2039E"
      }
    },
    {
      "cell_type": "code",
      "source": [
        "item_list = [3, \"string1\", 23, 14.0, \"string2\", 49, 64, 70]\n",
        "for x in item_list:\n",
        "    if not isinstance(x, int):\n",
        "        continue\n",
        "    if not x % 7:\n",
        "        print(f\"found an integer divisible by seven: {x}\")\n",
        "        break"
      ],
      "metadata": {
        "colab": {
          "base_uri": "https://localhost:8080/"
        },
        "id": "DHsayDg-07ps",
        "outputId": "bf010347-b9d0-4423-c288-b3a01cfc0e79"
      },
      "execution_count": null,
      "outputs": [
        {
          "output_type": "stream",
          "name": "stdout",
          "text": [
            "found an integer divisible by seven: 49\n"
          ]
        }
      ]
    },
    {
      "cell_type": "markdown",
      "source": [
        "# 3.4.6 Function definition"
      ],
      "metadata": {
        "id": "Kjwz3gmN1ckY"
      }
    },
    {
      "cell_type": "code",
      "source": [
        "def funct1(x, y, z):\n",
        "    value = x + 2*y + z**2\n",
        "    if value > 0:\n",
        "        return x + 2*y + z**2\n",
        "    else:\n",
        "        return 0\n",
        "\n",
        "u, v = 3, 4\n",
        "funct1(u, v, 2)\n",
        "\n",
        "\n",
        "\n",
        "funct1(u, z=v, y=2)\n",
        "\n",
        "\n",
        "\n",
        "def funct2(x, y=1, z=1):\n",
        "  return x + 2 * y + z ** 2\n",
        "\n",
        "funct2(3, z=4)\n",
        "\n",
        "\n",
        "\n",
        "def funct3(x, y=1, z=1, *tup):\n",
        "  print((x, y, z) + tup)\n",
        "\n",
        "funct3(2)\n",
        "\n",
        "\n",
        "\n",
        "funct3(1, 2, 3, 4, 5, 6, 7, 8, 9)\n",
        "\n",
        "\n",
        "\n",
        "def funct4(x, y=1, z=1, **kwargs):\n",
        "  print(x, y, z, kwargs)\n",
        "funct4(1, 2, m=5, n=9, z=3)\n",
        "\n"
      ],
      "metadata": {
        "colab": {
          "base_uri": "https://localhost:8080/"
        },
        "id": "vX3WuyTy1e0p",
        "outputId": "9baf34c8-8e48-4eb8-aa86-9d0d4a5b54c1"
      },
      "execution_count": null,
      "outputs": [
        {
          "output_type": "stream",
          "name": "stdout",
          "text": [
            "15\n",
            "(2, 1, 1)\n",
            "(1, 2, 3, 4, 5, 6, 7, 8, 9)\n",
            "1 2 3 {'m': 5, 'n': 9}\n"
          ]
        }
      ]
    },
    {
      "cell_type": "markdown",
      "source": [
        "# 3.4.7 Exceptions"
      ],
      "metadata": {
        "id": "puRlrf5c2hNi"
      }
    },
    {
      "cell_type": "code",
      "source": [
        "class EmptyFileError(Exception):\n",
        "    pass\n",
        "with open(\"empty_file\",\"w\") as file_empty:\n",
        "  print(f\"create file empty\")\n",
        "filenames = [\"myfile\",\"myfile1.txt\", \"non_existent\", \"empty_file\", \"myfile2.txt\"]\n",
        "for file in filenames:\n",
        "    try:\n",
        "        f = open(file, 'r')\n",
        "        line = f.readline()\n",
        "        if line == \"\":\n",
        "            f.close()\n",
        "            raise EmptyFileError(f\"{file}: is empty\")\n",
        "    except IOError as error:\n",
        "        print(f\"{file}: could not be opened: {error.strerror}\")\n",
        "    except EmptyFileError as error:\n",
        "        print(error)\n",
        "    else:\n",
        "        print(f\"{file}: {line}\")\n",
        "    finally:\n",
        "        print(\"Done processing\", file)"
      ],
      "metadata": {
        "colab": {
          "base_uri": "https://localhost:8080/"
        },
        "id": "7g3zTyKv2jEd",
        "outputId": "8a4fcbb6-bf2b-4e13-a5a1-12358b65fd29"
      },
      "execution_count": null,
      "outputs": [
        {
          "output_type": "stream",
          "name": "stdout",
          "text": [
            "create file empty\n",
            "myfile: could not be opened: No such file or directory\n",
            "Done processing myfile\n",
            "myfile1.txt: could not be opened: No such file or directory\n",
            "Done processing myfile1.txt\n",
            "non_existent: could not be opened: No such file or directory\n",
            "Done processing non_existent\n",
            "empty_file: is empty\n",
            "Done processing empty_file\n",
            "myfile2.txt: could not be opened: No such file or directory\n",
            "Done processing myfile2.txt\n"
          ]
        }
      ]
    },
    {
      "cell_type": "markdown",
      "source": [
        "# 3.4.8 Context handling using the with keyword"
      ],
      "metadata": {
        "id": "CNALY_RQ6DsB"
      }
    },
    {
      "cell_type": "code",
      "source": [
        "filename = \"myfile1.txt\"\n",
        "with open(filename, \"r\") as f:\n",
        "    for line in f:\n",
        "        print(line)"
      ],
      "metadata": {
        "colab": {
          "base_uri": "https://localhost:8080/",
          "height": 193
        },
        "id": "IKqCA5Hn6FoD",
        "outputId": "29f0a591-c463-46f3-8df9-c5165afb1cb7"
      },
      "execution_count": null,
      "outputs": [
        {
          "output_type": "error",
          "ename": "FileNotFoundError",
          "evalue": "[Errno 2] No such file or directory: 'myfile1.txt'",
          "traceback": [
            "\u001b[0;31m---------------------------------------------------------------------------\u001b[0m",
            "\u001b[0;31mFileNotFoundError\u001b[0m                         Traceback (most recent call last)",
            "\u001b[0;32m<ipython-input-52-b68ec312ac53>\u001b[0m in \u001b[0;36m<cell line: 2>\u001b[0;34m()\u001b[0m\n\u001b[1;32m      1\u001b[0m \u001b[0mfilename\u001b[0m \u001b[0;34m=\u001b[0m \u001b[0;34m\"myfile1.txt\"\u001b[0m\u001b[0;34m\u001b[0m\u001b[0;34m\u001b[0m\u001b[0m\n\u001b[0;32m----> 2\u001b[0;31m \u001b[0;32mwith\u001b[0m \u001b[0mopen\u001b[0m\u001b[0;34m(\u001b[0m\u001b[0mfilename\u001b[0m\u001b[0;34m,\u001b[0m \u001b[0;34m\"r\"\u001b[0m\u001b[0;34m)\u001b[0m \u001b[0;32mas\u001b[0m \u001b[0mf\u001b[0m\u001b[0;34m:\u001b[0m\u001b[0;34m\u001b[0m\u001b[0;34m\u001b[0m\u001b[0m\n\u001b[0m\u001b[1;32m      3\u001b[0m     \u001b[0;32mfor\u001b[0m \u001b[0mline\u001b[0m \u001b[0;32min\u001b[0m \u001b[0mf\u001b[0m\u001b[0;34m:\u001b[0m\u001b[0;34m\u001b[0m\u001b[0;34m\u001b[0m\u001b[0m\n\u001b[1;32m      4\u001b[0m         \u001b[0mprint\u001b[0m\u001b[0;34m(\u001b[0m\u001b[0mline\u001b[0m\u001b[0;34m)\u001b[0m\u001b[0;34m\u001b[0m\u001b[0;34m\u001b[0m\u001b[0m\n",
            "\u001b[0;31mFileNotFoundError\u001b[0m: [Errno 2] No such file or directory: 'myfile1.txt'"
          ]
        }
      ]
    },
    {
      "cell_type": "markdown",
      "source": [
        " Ese código es equivalente a este código:"
      ],
      "metadata": {
        "id": "9J452pSX6g5p"
      }
    },
    {
      "cell_type": "code",
      "source": [
        "filename = \"myfile1.txt\"\n",
        "try:\n",
        "    f = open(filename, \"r\")\n",
        "    for line in f:\n",
        "        print(line)\n",
        "except Exception as e:\n",
        "    raise e\n",
        "finally:\n",
        "    f.close()"
      ],
      "metadata": {
        "colab": {
          "base_uri": "https://localhost:8080/",
          "height": 332
        },
        "id": "xJXPHU5f6fh4",
        "outputId": "4dc6e6e9-1f2a-444f-8af9-912f61af6a5f"
      },
      "execution_count": null,
      "outputs": [
        {
          "output_type": "error",
          "ename": "FileNotFoundError",
          "evalue": "[Errno 2] No such file or directory: 'myfile1.txt'",
          "traceback": [
            "\u001b[0;31m---------------------------------------------------------------------------\u001b[0m",
            "\u001b[0;31mFileNotFoundError\u001b[0m                         Traceback (most recent call last)",
            "\u001b[0;32m<ipython-input-53-96882f3da4d9>\u001b[0m in \u001b[0;36m<cell line: 2>\u001b[0;34m()\u001b[0m\n\u001b[1;32m      5\u001b[0m         \u001b[0mprint\u001b[0m\u001b[0;34m(\u001b[0m\u001b[0mline\u001b[0m\u001b[0;34m)\u001b[0m\u001b[0;34m\u001b[0m\u001b[0;34m\u001b[0m\u001b[0m\n\u001b[1;32m      6\u001b[0m \u001b[0;32mexcept\u001b[0m \u001b[0mException\u001b[0m \u001b[0;32mas\u001b[0m \u001b[0me\u001b[0m\u001b[0;34m:\u001b[0m\u001b[0;34m\u001b[0m\u001b[0;34m\u001b[0m\u001b[0m\n\u001b[0;32m----> 7\u001b[0;31m     \u001b[0;32mraise\u001b[0m \u001b[0me\u001b[0m\u001b[0;34m\u001b[0m\u001b[0;34m\u001b[0m\u001b[0m\n\u001b[0m\u001b[1;32m      8\u001b[0m \u001b[0;32mfinally\u001b[0m\u001b[0;34m:\u001b[0m\u001b[0;34m\u001b[0m\u001b[0;34m\u001b[0m\u001b[0m\n\u001b[1;32m      9\u001b[0m     \u001b[0mf\u001b[0m\u001b[0;34m.\u001b[0m\u001b[0mclose\u001b[0m\u001b[0;34m(\u001b[0m\u001b[0;34m)\u001b[0m\u001b[0;34m\u001b[0m\u001b[0;34m\u001b[0m\u001b[0m\n",
            "\u001b[0;32m<ipython-input-53-96882f3da4d9>\u001b[0m in \u001b[0;36m<cell line: 2>\u001b[0;34m()\u001b[0m\n\u001b[1;32m      1\u001b[0m \u001b[0mfilename\u001b[0m \u001b[0;34m=\u001b[0m \u001b[0;34m\"myfile1.txt\"\u001b[0m\u001b[0;34m\u001b[0m\u001b[0;34m\u001b[0m\u001b[0m\n\u001b[1;32m      2\u001b[0m \u001b[0;32mtry\u001b[0m\u001b[0;34m:\u001b[0m\u001b[0;34m\u001b[0m\u001b[0;34m\u001b[0m\u001b[0m\n\u001b[0;32m----> 3\u001b[0;31m     \u001b[0mf\u001b[0m \u001b[0;34m=\u001b[0m \u001b[0mopen\u001b[0m\u001b[0;34m(\u001b[0m\u001b[0mfilename\u001b[0m\u001b[0;34m,\u001b[0m \u001b[0;34m\"r\"\u001b[0m\u001b[0;34m)\u001b[0m\u001b[0;34m\u001b[0m\u001b[0;34m\u001b[0m\u001b[0m\n\u001b[0m\u001b[1;32m      4\u001b[0m     \u001b[0;32mfor\u001b[0m \u001b[0mline\u001b[0m \u001b[0;32min\u001b[0m \u001b[0mf\u001b[0m\u001b[0;34m:\u001b[0m\u001b[0;34m\u001b[0m\u001b[0;34m\u001b[0m\u001b[0m\n\u001b[1;32m      5\u001b[0m         \u001b[0mprint\u001b[0m\u001b[0;34m(\u001b[0m\u001b[0mline\u001b[0m\u001b[0;34m)\u001b[0m\u001b[0;34m\u001b[0m\u001b[0;34m\u001b[0m\u001b[0m\n",
            "\u001b[0;31mFileNotFoundError\u001b[0m: [Errno 2] No such file or directory: 'myfile1.txt'"
          ]
        }
      ]
    },
    {
      "cell_type": "code",
      "source": [
        "\"\"\"wo module. Contains function: words_occur()\"\"\"\n",
        "# interface functions\n",
        "def words_occur():\n",
        "    \"\"\"words_occur() - count the occurrences of words in a file.\"\"\"\n",
        "    # Prompt user for the name of the file to use.\n",
        "    file_name = input(\"Enter the name of the file: \")\n",
        "    # Open the file, read it and store its words in a list.\n",
        "    f = open(file_name, 'r')\n",
        "    word_list = f.read().split()\n",
        "    f.close()\n",
        "    # Count the number of occurrences of each word in the file.\n",
        "    occurs_dict = {}\n",
        "    for word in word_list:\n",
        "        # increment the occurrences count for this word\n",
        "        occurs_dict[word] = occurs_dict.get(word, 0) + 1\n",
        "    # Print out the results.\n",
        "    print(f\"File {file_name} has {len(word_list)} words ({len(occurs_dict)} are unique)\")\n",
        "    print(occurs_dict)\n",
        "if __name__ == '__main__':\n",
        "    words_occur()"
      ],
      "metadata": {
        "colab": {
          "base_uri": "https://localhost:8080/"
        },
        "id": "kwQoivrksjXt",
        "outputId": "72d50a15-f377-433c-8fb3-e8513a926d1d"
      },
      "execution_count": null,
      "outputs": [
        {
          "output_type": "stream",
          "name": "stdout",
          "text": [
            "Enter the name of the file: myfile\n",
            "File myfile has 13 words (11 are unique)\n",
            "{'First': 1, 'line': 2, 'with': 1, 'necessary': 1, 'newline': 1, 'character': 1, 'Second': 1, 'to': 2, 'write': 1, 'the': 1, 'file': 1}\n"
          ]
        }
      ]
    },
    {
      "cell_type": "code",
      "source": [
        "\"\"\"shape module. Contains classes Shape, Square and Circle\"\"\"\n",
        "class Shape:\n",
        "    \"\"\"Shape class: has method move\"\"\"\n",
        "    def __init__(self, x, y):\n",
        "        self.x = x\n",
        "        self.y = y\n",
        "    def move(self, deltaX, deltaY):\n",
        "        self.x = self.x + deltaX\n",
        "        self.y = self.y + deltaY\n",
        "class Square(Shape):\n",
        "    \"\"\"Square Class:inherits from Shape\"\"\"\n",
        "    def __init__(self, side=1, x=0, y=0):\n",
        "        Shape.__init__(self, x, y)\n",
        "        self.side = side\n",
        "class Circle(Shape):\n",
        "    \"\"\"Circle Class: inherits from Shape and has method area\"\"\"\n",
        "    PI = 3.14159\n",
        "    def __init__(self, r=1, x=0, y=0):\n",
        "        Shape.__init__(self, x, y)\n",
        "        self.radius = r\n",
        "    def area(self):\n",
        "        \"\"\"Circle area method: returns the area of the circle.\"\"\"\n",
        "        return self.radius * self.radius * self.PI\n",
        "    def __str__(self):\n",
        "        return f\"Circle of radius {self.radius} at ({self.x}, {self.y})\""
      ],
      "metadata": {
        "id": "gzZw5_jcu3GF"
      },
      "execution_count": null,
      "outputs": []
    },
    {
      "cell_type": "code",
      "source": [
        "c1 = Circle()\n",
        "c2 = Circle(5, 15, 20)\n",
        "print(c1)\n",
        "\n",
        "print(c2)\n",
        "\n",
        "c2.area()\n",
        "\n",
        "c2.move(5,6)\n",
        "print(c2)"
      ],
      "metadata": {
        "colab": {
          "base_uri": "https://localhost:8080/"
        },
        "id": "ZtLCS6aCvukK",
        "outputId": "2b164270-53be-4320-c42b-70d6377e7eaa"
      },
      "execution_count": null,
      "outputs": [
        {
          "output_type": "stream",
          "name": "stdout",
          "text": [
            "Circle of radius 1 at (0, 0)\n",
            "Circle of radius 5 at (15, 20)\n",
            "Circle of radius 5 at (20, 26)\n"
          ]
        }
      ]
    },
    {
      "cell_type": "code",
      "source": [
        "# This is Python code.\n",
        "n = 9\n",
        "r = 1\n",
        "while n > 0:\n",
        "    r = r * n\n",
        "    n = n - 1\n",
        "print(r)"
      ],
      "metadata": {
        "colab": {
          "base_uri": "https://localhost:8080/"
        },
        "id": "_f5mZctWxwda",
        "outputId": "b8d0f2c8-aa73-4e55-cf24-71c7e6d3f680"
      },
      "execution_count": null,
      "outputs": [
        {
          "output_type": "stream",
          "name": "stdout",
          "text": [
            "362880\n"
          ]
        }
      ]
    },
    {
      "cell_type": "markdown",
      "source": [
        "# 4.3 Variables and assignments"
      ],
      "metadata": {
        "id": "466gv7U52HlE"
      }
    },
    {
      "cell_type": "code",
      "source": [
        "a = [1, 2, 3]\n",
        "b = a\n",
        "c = b\n",
        "c[1] = 5\n",
        "print(a, b, c)\n"
      ],
      "metadata": {
        "colab": {
          "base_uri": "https://localhost:8080/"
        },
        "id": "0y81TlP8zLo0",
        "outputId": "cf9dd8a3-97f4-40d6-8727-61553273b42a"
      },
      "execution_count": null,
      "outputs": [
        {
          "output_type": "stream",
          "name": "stdout",
          "text": [
            "[1, 5, 3] [1, 5, 3] [1, 5, 3]\n"
          ]
        }
      ]
    },
    {
      "cell_type": "code",
      "source": [
        "a = 1\n",
        "b = a\n",
        "c = b\n",
        "b = 5\n",
        "print(a, b, c)\n"
      ],
      "metadata": {
        "colab": {
          "base_uri": "https://localhost:8080/"
        },
        "id": "3mLThVEN1BPb",
        "outputId": "376f0c5d-f7a1-4218-fdf2-590af33f606b"
      },
      "execution_count": null,
      "outputs": [
        {
          "output_type": "stream",
          "name": "stdout",
          "text": [
            "1 5 1\n"
          ]
        }
      ]
    },
    {
      "cell_type": "code",
      "source": [
        "x = \"Hello\"\n",
        "print(x)\n",
        "\n",
        "x = 5\n",
        "print(x)"
      ],
      "metadata": {
        "colab": {
          "base_uri": "https://localhost:8080/"
        },
        "id": "HVyFC6mZ1sj4",
        "outputId": "54f9571d-1d11-4591-8072-7392b82da635"
      },
      "execution_count": null,
      "outputs": [
        {
          "output_type": "stream",
          "name": "stdout",
          "text": [
            "Hello\n",
            "5\n"
          ]
        }
      ]
    },
    {
      "cell_type": "code",
      "source": [
        "x = 5\n",
        "print(x)\n",
        "\n",
        "5\n",
        "\n",
        "del x\n",
        "print(x)"
      ],
      "metadata": {
        "colab": {
          "base_uri": "https://localhost:8080/",
          "height": 193
        },
        "id": "6MPfNTB31w_Y",
        "outputId": "1dc48bc3-6414-4d13-ee25-291e3580b383"
      },
      "execution_count": null,
      "outputs": [
        {
          "output_type": "stream",
          "name": "stdout",
          "text": [
            "5\n"
          ]
        },
        {
          "output_type": "error",
          "ename": "NameError",
          "evalue": "name 'x' is not defined",
          "traceback": [
            "\u001b[0;31m---------------------------------------------------------------------------\u001b[0m",
            "\u001b[0;31mNameError\u001b[0m                                 Traceback (most recent call last)",
            "\u001b[0;32m<ipython-input-17-e8339729001f>\u001b[0m in \u001b[0;36m<cell line: 7>\u001b[0;34m()\u001b[0m\n\u001b[1;32m      5\u001b[0m \u001b[0;34m\u001b[0m\u001b[0m\n\u001b[1;32m      6\u001b[0m \u001b[0;32mdel\u001b[0m \u001b[0mx\u001b[0m\u001b[0;34m\u001b[0m\u001b[0;34m\u001b[0m\u001b[0m\n\u001b[0;32m----> 7\u001b[0;31m \u001b[0mprint\u001b[0m\u001b[0;34m(\u001b[0m\u001b[0mx\u001b[0m\u001b[0;34m)\u001b[0m\u001b[0;34m\u001b[0m\u001b[0;34m\u001b[0m\u001b[0m\n\u001b[0m",
            "\u001b[0;31mNameError\u001b[0m: name 'x' is not defined"
          ]
        }
      ]
    },
    {
      "cell_type": "markdown",
      "source": [
        "# 4.4 Optional type hints in Python"
      ],
      "metadata": {
        "id": "Yz0DUDW62zDM"
      }
    },
    {
      "cell_type": "code",
      "source": [
        "# agreguemos esto a un file test_add.py\n",
        "def add_ints(x: int, y: int) -> int:\n",
        "     return x + y\n",
        "\n",
        "p: int = 2.3\n",
        "print(p)\n",
        "z = add_ints(1, 2)\n",
        "w = add_ints(1.5, 2.5)\n",
        "w"
      ],
      "metadata": {
        "colab": {
          "base_uri": "https://localhost:8080/"
        },
        "id": "lH4ikfCl20_k",
        "outputId": "68119c40-e2ea-4460-e390-d49b73de3163"
      },
      "execution_count": null,
      "outputs": [
        {
          "output_type": "stream",
          "name": "stdout",
          "text": [
            "2.3\n"
          ]
        },
        {
          "output_type": "execute_result",
          "data": {
            "text/plain": [
              "4.0"
            ]
          },
          "metadata": {},
          "execution_count": 21
        }
      ]
    },
    {
      "cell_type": "markdown",
      "source": [
        "\n",
        "> *La notación de sugerencias de tipo se puede leer con herramientas de verificación de tipo como **mypy, pyright, pyre o pytype**, así como con varios IDE comunes, para señalar el uso de un tipo incompatible o inesperado. Si bien estas herramientas pueden informar el error, Python en sí no generará un error de tiempo de ejecución si no se siguen las sugerencias de tipo.*\n",
        "\n"
      ],
      "metadata": {
        "id": "AjHI7ISy6Qyp"
      }
    },
    {
      "cell_type": "code",
      "source": [
        "!pip install mypy"
      ],
      "metadata": {
        "colab": {
          "base_uri": "https://localhost:8080/"
        },
        "id": "9gSe0oMS5i9N",
        "outputId": "c1ab770d-3fd3-420d-a94f-d5d843f9797d"
      },
      "execution_count": null,
      "outputs": [
        {
          "output_type": "stream",
          "name": "stdout",
          "text": [
            "Collecting mypy\n",
            "  Downloading mypy-1.11.1-cp310-cp310-manylinux_2_17_x86_64.manylinux2014_x86_64.manylinux_2_28_x86_64.whl.metadata (1.9 kB)\n",
            "Requirement already satisfied: typing-extensions>=4.6.0 in /usr/local/lib/python3.10/dist-packages (from mypy) (4.12.2)\n",
            "Collecting mypy-extensions>=1.0.0 (from mypy)\n",
            "  Downloading mypy_extensions-1.0.0-py3-none-any.whl.metadata (1.1 kB)\n",
            "Requirement already satisfied: tomli>=1.1.0 in /usr/local/lib/python3.10/dist-packages (from mypy) (2.0.1)\n",
            "Downloading mypy-1.11.1-cp310-cp310-manylinux_2_17_x86_64.manylinux2014_x86_64.manylinux_2_28_x86_64.whl (12.5 MB)\n",
            "\u001b[2K   \u001b[90m━━━━━━━━━━━━━━━━━━━━━━━━━━━━━━━━━━━━━━━━\u001b[0m \u001b[32m12.5/12.5 MB\u001b[0m \u001b[31m69.3 MB/s\u001b[0m eta \u001b[36m0:00:00\u001b[0m\n",
            "\u001b[?25hDownloading mypy_extensions-1.0.0-py3-none-any.whl (4.7 kB)\n",
            "Installing collected packages: mypy-extensions, mypy\n",
            "Successfully installed mypy-1.11.1 mypy-extensions-1.0.0\n"
          ]
        }
      ]
    },
    {
      "cell_type": "code",
      "source": [
        "! mypy test_add.py"
      ],
      "metadata": {
        "colab": {
          "base_uri": "https://localhost:8080/"
        },
        "id": "fKV_pyrH55vd",
        "outputId": "8d9c895b-1c60-4efd-8092-bb9f4cb12ba1"
      },
      "execution_count": null,
      "outputs": [
        {
          "output_type": "stream",
          "name": "stdout",
          "text": [
            "test_add.py:4: \u001b[1m\u001b[31merror:\u001b[m Incompatible types in assignment (expression has type \u001b[m\u001b[1m\"float\"\u001b[m, variable has type \u001b[m\u001b[1m\"int\"\u001b[m)  \u001b[m\u001b[33m[assignment]\u001b[m\n",
            "test_add.py:7: \u001b[1m\u001b[31merror:\u001b[m Argument 1 to \u001b[m\u001b[1m\"add_ints\"\u001b[m has incompatible type \u001b[m\u001b[1m\"float\"\u001b[m; expected \u001b[m\u001b[1m\"int\"\u001b[m  \u001b[m\u001b[33m[arg-type]\u001b[m\n",
            "test_add.py:7: \u001b[1m\u001b[31merror:\u001b[m Argument 2 to \u001b[m\u001b[1m\"add_ints\"\u001b[m has incompatible type \u001b[m\u001b[1m\"float\"\u001b[m; expected \u001b[m\u001b[1m\"int\"\u001b[m  \u001b[m\u001b[33m[arg-type]\u001b[m\n",
            "\u001b[1m\u001b[31mFound 3 errors in 1 file (checked 1 source file)\u001b[m\n"
          ]
        }
      ]
    },
    {
      "cell_type": "markdown",
      "source": [
        "# 4.4.1 ¿Por qué utilizar sugerencias de tipos?"
      ],
      "metadata": {
        "id": "VYPen5hf9-xh"
      }
    },
    {
      "cell_type": "markdown",
      "source": [
        "\n",
        "\n",
        "> Una de las razones por las que se utilizan cada vez más las sugerencias de tipo es que ayudan a reducir la confusión sobre qué tipo se espera en muchas situaciones. En una base de código grande, puede resultar especialmente frustrante buscar un error en el que se devuelva un tipo de objeto inesperado. Las sugerencias de tipo permiten detectar y solucionar muchas de estas situaciones antes del tiempo de ejecución. La información de tipo también permite que muchos editores e IDE adviertan sobre estos errores y sugieran alternativas adecuadas durante el proceso de codificación\n",
        "\n"
      ],
      "metadata": {
        "id": "7p0oxEkg-Cpk"
      }
    },
    {
      "cell_type": "markdown",
      "source": [
        "# 4.4.2 ¿Por qué no utilizar sugerencias de tipos?"
      ],
      "metadata": {
        "id": "a9q6X6ew_ifJ"
      }
    },
    {
      "cell_type": "markdown",
      "source": [
        "* En scripts más pequeños e informales puede que no valga la pena dedicar\n",
        "tiempo y esfuerzo extra para agregar sugerencias de tipo.\n",
        "\n",
        "* Intentar escribir de forma completa y explícita todo lo que aparece en un programa puede hacer que las definiciones de funciones o métodos sean más difíciles de leer. En ese caso, se debe tomar una decisión sobre el equilibrio entre la legibilidad humana y la integridad de la escritura.\n",
        "\n",
        "* Tenga cuidado de no adentrarse demasiado en el mundo de las sugerencias de tipos. Pasar demasiado tiempo obsesionado con sugerencias de tipos detalladas puede no ser productivo.\n",
        "\n",
        "* Volver atrás y cambiar el código funcional únicamente para agregar sugerencias de tipo tampoco es la mejor manera de invertir el tiempo. Por lo general, es más prudente dejar el código funcional tal como está, a menos que tenga una buena razón para cambiarlo. Agregar sugerencias de tipo se puede hacer en el transcurso de otro mantenimiento o refactorización."
      ],
      "metadata": {
        "id": "5XyIwRyH_CaE"
      }
    },
    {
      "cell_type": "markdown",
      "source": [
        "# 4.5 Expressions"
      ],
      "metadata": {
        "id": "XIx0Fi-nBCTE"
      }
    },
    {
      "cell_type": "code",
      "source": [
        "x = 3\n",
        "y = 5\n",
        "z = (x + y) / 2"
      ],
      "metadata": {
        "id": "PIf4cGchBEVT"
      },
      "execution_count": null,
      "outputs": []
    },
    {
      "cell_type": "markdown",
      "source": [
        "# 4.6 Strings"
      ],
      "metadata": {
        "id": "4SSbdSJIBOGD"
      }
    },
    {
      "cell_type": "code",
      "source": [
        "x = \"Hello, World\"\n",
        "x"
      ],
      "metadata": {
        "colab": {
          "base_uri": "https://localhost:8080/",
          "height": 35
        },
        "id": "T5P7yaR-BPoU",
        "outputId": "4e5b076b-f312-4f3a-87f5-22ee55c5b51d"
      },
      "execution_count": null,
      "outputs": [
        {
          "output_type": "execute_result",
          "data": {
            "text/plain": [
              "'Hello, World'"
            ],
            "application/vnd.google.colaboratory.intrinsic+json": {
              "type": "string"
            }
          },
          "metadata": {},
          "execution_count": 27
        }
      ]
    },
    {
      "cell_type": "code",
      "source": [
        "x = \"\\tThis string starts with a \\\"tab\\\".\"\n",
        "print(x)\n",
        "x = \"This string contains a single backslash(\\\\).\"\n",
        "x"
      ],
      "metadata": {
        "colab": {
          "base_uri": "https://localhost:8080/",
          "height": 53
        },
        "id": "lFJfR8xVBXC5",
        "outputId": "b53e8232-051b-4755-b718-e2306d442f00"
      },
      "execution_count": null,
      "outputs": [
        {
          "output_type": "stream",
          "name": "stdout",
          "text": [
            "\tThis string starts with a \"tab\".\n"
          ]
        },
        {
          "output_type": "execute_result",
          "data": {
            "text/plain": [
              "'This string contains a single backslash(\\\\).'"
            ],
            "application/vnd.google.colaboratory.intrinsic+json": {
              "type": "string"
            }
          },
          "metadata": {},
          "execution_count": 30
        }
      ]
    },
    {
      "cell_type": "code",
      "source": [
        "x = \"Hello, World\"\n",
        "x = 'Hello, World'"
      ],
      "metadata": {
        "id": "HKpNlziCBln6"
      },
      "execution_count": null,
      "outputs": []
    },
    {
      "cell_type": "code",
      "source": [
        "# This Python code will cause an ERROR -- you can't\n",
        "# split the string across two lines.\n",
        "x = \"This is a misguided attempt to\n",
        "put a newline into a string without using backslash-n\""
      ],
      "metadata": {
        "colab": {
          "base_uri": "https://localhost:8080/",
          "height": 106
        },
        "id": "kElQOJ3sBnFh",
        "outputId": "36f45712-6cbd-4b48-9234-905de2819807"
      },
      "execution_count": null,
      "outputs": [
        {
          "output_type": "error",
          "ename": "SyntaxError",
          "evalue": "unterminated string literal (detected at line 3) (<ipython-input-32-105495cf7241>, line 3)",
          "traceback": [
            "\u001b[0;36m  File \u001b[0;32m\"<ipython-input-32-105495cf7241>\"\u001b[0;36m, line \u001b[0;32m3\u001b[0m\n\u001b[0;31m    x = \"This is a misguided attempt to\u001b[0m\n\u001b[0m        ^\u001b[0m\n\u001b[0;31mSyntaxError\u001b[0m\u001b[0;31m:\u001b[0m unterminated string literal (detected at line 3)\n"
          ]
        }
      ]
    },
    {
      "cell_type": "markdown",
      "source": [
        "\n",
        "\n",
        "> Pero Python ofrece cadenas entre comillas triples, que le permiten tener cadenas de varias líneas e incluir comillas simples y dobles sin barras invertidas:\n",
        "\n"
      ],
      "metadata": {
        "id": "JHpDrqHqB1yi"
      }
    },
    {
      "cell_type": "code",
      "source": [
        "x = \"\"\"Starting and ending a string with triple \" or ' characters\n",
        "permits embedded newlines, and the use of \" and ' without\n",
        "backslashes\"\"\"\n",
        "print(x)"
      ],
      "metadata": {
        "colab": {
          "base_uri": "https://localhost:8080/"
        },
        "id": "7eHd4rD6B50Y",
        "outputId": "79f9fa2c-dbc2-4c5d-b842-df31f20c5996"
      },
      "execution_count": null,
      "outputs": [
        {
          "output_type": "stream",
          "name": "stdout",
          "text": [
            "Starting and ending a string with triple \" or ' characters\n",
            "permits embedded newlines, and the use of \" and ' without\n",
            "backslashes\n"
          ]
        }
      ]
    },
    {
      "cell_type": "markdown",
      "source": [
        "# 4.7 Numbers"
      ],
      "metadata": {
        "id": "n1w_swM3CXOo"
      }
    },
    {
      "cell_type": "code",
      "source": [
        "x = 5 + 2 - 3 * 2\n",
        "print(x)\n",
        "print(type(x))\n",
        "\n",
        "x = 5 / 2 # floating-point result with normal division\n",
        "print(x)\n",
        "print(type(x))\n",
        "\n",
        "x = 2.5\n",
        "print(x)\n",
        "print(type(x))\n",
        "\n",
        "x = 5 / 2.0 # also a floating-point result\n",
        "print(x)\n",
        "print(type(x))\n",
        "\n",
        "\n",
        "x = 2.5\n",
        "print(x)\n",
        "print(type(x))\n",
        "\n",
        "x = 5 // 2 # integer result with truncation when divided using '//'\n",
        "print(x)\n",
        "print(type(x))\n",
        "\n",
        "\n",
        "x = 30000000000 # This would be too large to be an int in many languages\n",
        "print(x)\n",
        "print(type(x))\n",
        "\n",
        "\n",
        "x = 30000000000 * 3\n",
        "print(x)\n",
        "print(type(x))\n",
        "\n",
        "\n",
        "x = 30000000000 * 3.0\n",
        "print(x)\n",
        "print(type(x))\n",
        "\n",
        "\n",
        "x = 2.0e-8 # Scientific notation gives back a float\n",
        "print(x)\n",
        "print(type(x))\n",
        "\n",
        "\n",
        "x = 3000000 * 3000000\n",
        "print(x)\n",
        "print(type(x))\n",
        "\n",
        "\n",
        "x = int(200.2)\n",
        "print(x)\n",
        "print(type(x))\n",
        "\n",
        "\n",
        "\n",
        "x = int(2e2)\n",
        "print(x)\n",
        "print(type(x))\n",
        "\n",
        "\n",
        "float(200)\n",
        "\n"
      ],
      "metadata": {
        "colab": {
          "base_uri": "https://localhost:8080/"
        },
        "id": "MzWZp1S2CZDC",
        "outputId": "e3539d88-7c5f-4d91-9605-d8411d067863"
      },
      "execution_count": null,
      "outputs": [
        {
          "output_type": "stream",
          "name": "stdout",
          "text": [
            "1\n",
            "<class 'int'>\n",
            "2.5\n",
            "<class 'float'>\n",
            "2.5\n",
            "<class 'float'>\n",
            "2.5\n",
            "<class 'float'>\n",
            "2.5\n",
            "<class 'float'>\n",
            "2\n",
            "<class 'int'>\n",
            "30000000000\n",
            "<class 'int'>\n",
            "90000000000\n",
            "<class 'int'>\n",
            "90000000000.0\n",
            "<class 'float'>\n",
            "2e-08\n",
            "<class 'float'>\n",
            "9000000000000\n",
            "<class 'int'>\n",
            "200\n",
            "<class 'int'>\n",
            "200\n",
            "<class 'int'>\n"
          ]
        },
        {
          "output_type": "execute_result",
          "data": {
            "text/plain": [
              "200.0"
            ]
          },
          "metadata": {},
          "execution_count": 42
        }
      ]
    },
    {
      "cell_type": "markdown",
      "source": [
        "# 4.7.1 Built-in numeric functions"
      ],
      "metadata": {
        "id": "_9SW1MdXDy8i"
      }
    },
    {
      "cell_type": "code",
      "source": [
        "abs, divmod, float, hex, int, max, min, oct,\n",
        "pow, round"
      ],
      "metadata": {
        "colab": {
          "base_uri": "https://localhost:8080/"
        },
        "id": "7QtQVlJbD0aA",
        "outputId": "17bbd249-023a-4614-d7b1-1a72440937aa"
      },
      "execution_count": null,
      "outputs": [
        {
          "output_type": "execute_result",
          "data": {
            "text/plain": [
              "(<function pow(base, exp, mod=None)>, <function round(number, ndigits=None)>)"
            ]
          },
          "metadata": {},
          "execution_count": 43
        }
      ]
    },
    {
      "cell_type": "code",
      "source": [
        "abs(-10)"
      ],
      "metadata": {
        "colab": {
          "base_uri": "https://localhost:8080/"
        },
        "id": "e9JSV0c9D6Zx",
        "outputId": "96b56d19-c066-4574-f50f-805e30479aca"
      },
      "execution_count": null,
      "outputs": [
        {
          "output_type": "execute_result",
          "data": {
            "text/plain": [
              "10"
            ]
          },
          "metadata": {},
          "execution_count": 44
        }
      ]
    },
    {
      "cell_type": "code",
      "source": [
        "help(divmod)\n",
        "mod = divmod(11,2)\n",
        "print(mod)\n",
        "print(type(mod))\n"
      ],
      "metadata": {
        "colab": {
          "base_uri": "https://localhost:8080/"
        },
        "id": "Pv52JZEAD8_U",
        "outputId": "bba3a753-9594-43a1-cb7b-51c455da7ae7"
      },
      "execution_count": null,
      "outputs": [
        {
          "output_type": "stream",
          "name": "stdout",
          "text": [
            "Help on built-in function divmod in module builtins:\n",
            "\n",
            "divmod(x, y, /)\n",
            "    Return the tuple (x//y, x%y).  Invariant: div*y + mod == x.\n",
            "\n",
            "(5, 1)\n",
            "<class 'tuple'>\n"
          ]
        }
      ]
    },
    {
      "cell_type": "code",
      "source": [
        "x = float(10)\n",
        "print(x)\n",
        "print(type(x))"
      ],
      "metadata": {
        "colab": {
          "base_uri": "https://localhost:8080/"
        },
        "id": "6FSUkUCCEq1c",
        "outputId": "acae937f-0b99-482a-eb47-a0bc822b2df6"
      },
      "execution_count": null,
      "outputs": [
        {
          "output_type": "stream",
          "name": "stdout",
          "text": [
            "10.0\n",
            "<class 'float'>\n"
          ]
        }
      ]
    },
    {
      "cell_type": "code",
      "source": [
        "hex(11)"
      ],
      "metadata": {
        "colab": {
          "base_uri": "https://localhost:8080/",
          "height": 35
        },
        "id": "Z-36TbiuEyut",
        "outputId": "ec0a0728-89c2-4d86-ea5b-563d729cd64b"
      },
      "execution_count": null,
      "outputs": [
        {
          "output_type": "execute_result",
          "data": {
            "text/plain": [
              "'0xb'"
            ],
            "application/vnd.google.colaboratory.intrinsic+json": {
              "type": "string"
            }
          },
          "metadata": {},
          "execution_count": 57
        }
      ]
    },
    {
      "cell_type": "code",
      "source": [
        "int(10.6)"
      ],
      "metadata": {
        "colab": {
          "base_uri": "https://localhost:8080/"
        },
        "id": "MDlJTM-FE4j0",
        "outputId": "042b6a6b-39c3-4c0b-dff0-02ae6e301e05"
      },
      "execution_count": null,
      "outputs": [
        {
          "output_type": "execute_result",
          "data": {
            "text/plain": [
              "10"
            ]
          },
          "metadata": {},
          "execution_count": 59
        }
      ]
    },
    {
      "cell_type": "code",
      "source": [
        "max(5, 10, 6)"
      ],
      "metadata": {
        "colab": {
          "base_uri": "https://localhost:8080/"
        },
        "id": "VPCbi_qlE7pG",
        "outputId": "b0061e77-491e-42db-9400-4a26b9ef2f60"
      },
      "execution_count": null,
      "outputs": [
        {
          "output_type": "execute_result",
          "data": {
            "text/plain": [
              "10"
            ]
          },
          "metadata": {},
          "execution_count": 61
        }
      ]
    },
    {
      "cell_type": "code",
      "source": [
        "min(5, 10, 6)"
      ],
      "metadata": {
        "colab": {
          "base_uri": "https://localhost:8080/"
        },
        "id": "BKhazOhmFFsF",
        "outputId": "23ecca8f-9db5-4a18-f935-95553f517c67"
      },
      "execution_count": null,
      "outputs": [
        {
          "output_type": "execute_result",
          "data": {
            "text/plain": [
              "5"
            ]
          },
          "metadata": {},
          "execution_count": 62
        }
      ]
    },
    {
      "cell_type": "code",
      "source": [
        "oct(10)"
      ],
      "metadata": {
        "colab": {
          "base_uri": "https://localhost:8080/",
          "height": 35
        },
        "id": "uMEGW923FKjJ",
        "outputId": "d9a67327-7357-4996-95e0-4be9500e098f"
      },
      "execution_count": null,
      "outputs": [
        {
          "output_type": "execute_result",
          "data": {
            "text/plain": [
              "'0o12'"
            ],
            "application/vnd.google.colaboratory.intrinsic+json": {
              "type": "string"
            }
          },
          "metadata": {},
          "execution_count": 63
        }
      ]
    },
    {
      "cell_type": "code",
      "source": [
        "help(pow)\n",
        "pow(2,3)"
      ],
      "metadata": {
        "colab": {
          "base_uri": "https://localhost:8080/"
        },
        "id": "ouk0XC4JFN9l",
        "outputId": "ec59dbbb-7ae8-43a5-c617-2b84d0830c8c"
      },
      "execution_count": null,
      "outputs": [
        {
          "output_type": "stream",
          "name": "stdout",
          "text": [
            "Help on built-in function pow in module builtins:\n",
            "\n",
            "pow(base, exp, mod=None)\n",
            "    Equivalent to base**exp with 2 arguments or base**exp % mod with 3 arguments\n",
            "    \n",
            "    Some types, such as ints, are able to use a more efficient algorithm when\n",
            "    invoked using the three argument form.\n",
            "\n"
          ]
        },
        {
          "output_type": "execute_result",
          "data": {
            "text/plain": [
              "8"
            ]
          },
          "metadata": {},
          "execution_count": 72
        }
      ]
    },
    {
      "cell_type": "code",
      "source": [
        "x = round(10.6)\n",
        "print(x)\n",
        "print(type(x))\n",
        "round(10.2)"
      ],
      "metadata": {
        "colab": {
          "base_uri": "https://localhost:8080/"
        },
        "id": "2ASKFYhxFp_N",
        "outputId": "2b293358-477e-4cc1-d149-650c993bad8a"
      },
      "execution_count": null,
      "outputs": [
        {
          "output_type": "stream",
          "name": "stdout",
          "text": [
            "11\n",
            "<class 'int'>\n"
          ]
        },
        {
          "output_type": "execute_result",
          "data": {
            "text/plain": [
              "10"
            ]
          },
          "metadata": {},
          "execution_count": 76
        }
      ]
    },
    {
      "cell_type": "markdown",
      "source": [
        "# 4.7.2 Advanced numeric functions"
      ],
      "metadata": {
        "id": "E6PZgaAiGAV5"
      }
    },
    {
      "cell_type": "code",
      "source": [
        "from math import *"
      ],
      "metadata": {
        "id": "yE01AJIXGBhJ"
      },
      "execution_count": null,
      "outputs": []
    },
    {
      "cell_type": "code",
      "source": [
        "acos, asin, atan, atan2, ceil, cos, cosh, e, exp, fabs, floor, fmod,\n",
        "frexp, hypot, ldexp, log, log10, mod, pi, pow, sin, sinh, sqrt, tan,\n",
        "tanh"
      ],
      "metadata": {
        "colab": {
          "base_uri": "https://localhost:8080/"
        },
        "id": "bPT9oCngGEhO",
        "outputId": "13857ea9-cf64-40b4-ccfb-4b2dcfd2f1f6"
      },
      "execution_count": null,
      "outputs": [
        {
          "output_type": "execute_result",
          "data": {
            "text/plain": [
              "<function math.tanh(x, /)>"
            ]
          },
          "metadata": {},
          "execution_count": 78
        }
      ]
    },
    {
      "cell_type": "code",
      "source": [
        "help(acos)\n",
        "acos(0.5)"
      ],
      "metadata": {
        "colab": {
          "base_uri": "https://localhost:8080/"
        },
        "id": "kFDjMSdgGIeO",
        "outputId": "274bab3d-c363-4961-d473-d62552dd00f2"
      },
      "execution_count": null,
      "outputs": [
        {
          "output_type": "stream",
          "name": "stdout",
          "text": [
            "Help on built-in function acos in module math:\n",
            "\n",
            "acos(x, /)\n",
            "    Return the arc cosine (measured in radians) of x.\n",
            "    \n",
            "    The result is between 0 and pi.\n",
            "\n"
          ]
        },
        {
          "output_type": "execute_result",
          "data": {
            "text/plain": [
              "1.0471975511965979"
            ]
          },
          "metadata": {},
          "execution_count": 86
        }
      ]
    },
    {
      "cell_type": "markdown",
      "source": [
        "# 4.9 Getting input from the user"
      ],
      "metadata": {
        "id": "4-o_uIBdz1aj"
      }
    },
    {
      "cell_type": "code",
      "source": [
        "name = input(\"Name? \")\n",
        "\n",
        "print(name)\n",
        "\n",
        "age = int(input(\"Age? \"))\n",
        "\n",
        "print(age)\n",
        "\n"
      ],
      "metadata": {
        "colab": {
          "base_uri": "https://localhost:8080/"
        },
        "id": "qQS37-U4z3vW",
        "outputId": "e87e05cc-3ac3-4d50-fb2e-9d6908f21e0e"
      },
      "execution_count": null,
      "outputs": [
        {
          "output_type": "stream",
          "name": "stdout",
          "text": [
            "Name? Jorge\n",
            "Jorge\n",
            "Age? 41\n",
            "41\n"
          ]
        }
      ]
    },
    {
      "cell_type": "markdown",
      "source": [
        "# 5 Lists, tuples, and sets"
      ],
      "metadata": {
        "id": "cy5Y6xo50oqv"
      }
    },
    {
      "cell_type": "markdown",
      "source": [
        "##  5.1 Lists are like arrays\n"
      ],
      "metadata": {
        "id": "nh8cR-zH09qD"
      }
    },
    {
      "cell_type": "code",
      "source": [
        "# This assigns a three-element list to x\n",
        "x = [1, 2, 3]\n",
        "x"
      ],
      "metadata": {
        "colab": {
          "base_uri": "https://localhost:8080/"
        },
        "id": "dEKHTKwR07Uy",
        "outputId": "211c19cf-44f3-4de2-8b2a-fc25196da171"
      },
      "execution_count": null,
      "outputs": [
        {
          "output_type": "execute_result",
          "data": {
            "text/plain": [
              "[1, 2, 3]"
            ]
          },
          "metadata": {},
          "execution_count": 4
        }
      ]
    },
    {
      "cell_type": "code",
      "source": [
        "# First element is a number, second is a string, third is another list.\n",
        "x = [2, \"two\", [1, 2, 3]]\n",
        "x"
      ],
      "metadata": {
        "colab": {
          "base_uri": "https://localhost:8080/"
        },
        "id": "r3GUgBq80sED",
        "outputId": "11665373-9dad-4301-e38a-d5703a9ccae7"
      },
      "execution_count": null,
      "outputs": [
        {
          "output_type": "execute_result",
          "data": {
            "text/plain": [
              "[2, 'two', [1, 2, 3]]"
            ]
          },
          "metadata": {},
          "execution_count": 5
        }
      ]
    },
    {
      "cell_type": "code",
      "source": [
        "x = [2, \"two\", [1, 2, 3]]\n",
        "len(x)"
      ],
      "metadata": {
        "colab": {
          "base_uri": "https://localhost:8080/"
        },
        "id": "85-JcyD_1gY6",
        "outputId": "715211ac-aa4a-4cd7-9d41-e347feed5be3"
      },
      "execution_count": null,
      "outputs": [
        {
          "output_type": "execute_result",
          "data": {
            "text/plain": [
              "3"
            ]
          },
          "metadata": {},
          "execution_count": 6
        }
      ]
    },
    {
      "cell_type": "markdown",
      "source": [
        "## 5.2 List indices"
      ],
      "metadata": {
        "id": "SMzP1dwN1uuq"
      }
    },
    {
      "cell_type": "code",
      "source": [
        "x = [\"primero\", \"segundo\", \"tercero\", \"cuarto\"]\n",
        "print(x[0])\n",
        "x[2]"
      ],
      "metadata": {
        "colab": {
          "base_uri": "https://localhost:8080/",
          "height": 53
        },
        "id": "JZO9GS-i1wbp",
        "outputId": "99baf4c2-ab43-43e9-dd71-eec7c1ed8992"
      },
      "execution_count": null,
      "outputs": [
        {
          "output_type": "stream",
          "name": "stdout",
          "text": [
            "primero\n"
          ]
        },
        {
          "output_type": "execute_result",
          "data": {
            "text/plain": [
              "'tercero'"
            ],
            "application/vnd.google.colaboratory.intrinsic+json": {
              "type": "string"
            }
          },
          "metadata": {},
          "execution_count": 7
        }
      ]
    },
    {
      "cell_type": "code",
      "source": [
        "a = x[-1]\n",
        "print(a)\n",
        "x[-2]"
      ],
      "metadata": {
        "colab": {
          "base_uri": "https://localhost:8080/",
          "height": 53
        },
        "id": "LqNvOdS82Dqq",
        "outputId": "a973a005-34ef-45e9-95b5-9dc87aca9f43"
      },
      "execution_count": null,
      "outputs": [
        {
          "output_type": "stream",
          "name": "stdout",
          "text": [
            "cuarto\n"
          ]
        },
        {
          "output_type": "execute_result",
          "data": {
            "text/plain": [
              "'tercero'"
            ],
            "application/vnd.google.colaboratory.intrinsic+json": {
              "type": "string"
            }
          },
          "metadata": {},
          "execution_count": 8
        }
      ]
    },
    {
      "cell_type": "markdown",
      "source": [
        "![image.png](data:image/png;base64,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)"
      ],
      "metadata": {
        "id": "hyUfUiCL2Wis"
      }
    },
    {
      "cell_type": "code",
      "source": [
        "x = [\"first\", \"second\", \"third\", \"fourth\"]\n",
        "print(x[1:-1])\n",
        "\n",
        "print(x[0:3])\n",
        "\n",
        "print(x[-2:-1])\n",
        "\n"
      ],
      "metadata": {
        "colab": {
          "base_uri": "https://localhost:8080/"
        },
        "id": "Y3D9zI8d2jlV",
        "outputId": "7c2610c6-8d0c-4438-b8fc-00692b502402"
      },
      "execution_count": null,
      "outputs": [
        {
          "output_type": "stream",
          "name": "stdout",
          "text": [
            "['second', 'third']\n",
            "['first', 'second', 'third']\n",
            "['third']\n"
          ]
        }
      ]
    },
    {
      "cell_type": "code",
      "source": [
        "x[-1:2]"
      ],
      "metadata": {
        "colab": {
          "base_uri": "https://localhost:8080/"
        },
        "id": "lVp_pOuY6Vfn",
        "outputId": "ddc93c7e-c9b5-45f8-da03-ec811b27d118"
      },
      "execution_count": null,
      "outputs": [
        {
          "output_type": "execute_result",
          "data": {
            "text/plain": [
              "[]"
            ]
          },
          "metadata": {},
          "execution_count": 10
        }
      ]
    },
    {
      "cell_type": "code",
      "source": [
        "x[:3]"
      ],
      "metadata": {
        "colab": {
          "base_uri": "https://localhost:8080/"
        },
        "id": "bMxT3Z4G6miR",
        "outputId": "8f8fb522-126d-43cb-c504-cb0ebf825a58"
      },
      "execution_count": null,
      "outputs": [
        {
          "output_type": "execute_result",
          "data": {
            "text/plain": [
              "['first', 'second', 'third']"
            ]
          },
          "metadata": {},
          "execution_count": 11
        }
      ]
    },
    {
      "cell_type": "code",
      "source": [
        "x[2:]"
      ],
      "metadata": {
        "colab": {
          "base_uri": "https://localhost:8080/"
        },
        "id": "nlEy8BL66r-C",
        "outputId": "7a82754c-6cf5-48ad-9bfd-c17e18c24f15"
      },
      "execution_count": null,
      "outputs": [
        {
          "output_type": "execute_result",
          "data": {
            "text/plain": [
              "['third', 'fourth']"
            ]
          },
          "metadata": {},
          "execution_count": 12
        }
      ]
    },
    {
      "cell_type": "code",
      "source": [
        "# si se omiten los dos indices se genera una nueva lista, desde el inicio hasta\n",
        "# el final, esta tecnica es util si se desea crear una copia de la lista sin\n",
        "# afectar la original\n",
        "y = x[:]\n",
        "y[0] = '1 st'\n",
        "y"
      ],
      "metadata": {
        "colab": {
          "base_uri": "https://localhost:8080/"
        },
        "id": "23hxM22t68Z3",
        "outputId": "afdd71c2-d2ad-4879-cac4-aeef0144a297"
      },
      "execution_count": null,
      "outputs": [
        {
          "output_type": "execute_result",
          "data": {
            "text/plain": [
              "['1 st', 'second', 'third', 'fourth']"
            ]
          },
          "metadata": {},
          "execution_count": 15
        }
      ]
    },
    {
      "cell_type": "code",
      "source": [
        "x"
      ],
      "metadata": {
        "colab": {
          "base_uri": "https://localhost:8080/"
        },
        "id": "tIestVEv7A2v",
        "outputId": "db045be2-e200-4dd3-9a49-5ce1b7fe414f"
      },
      "execution_count": null,
      "outputs": [
        {
          "output_type": "execute_result",
          "data": {
            "text/plain": [
              "['first', 'second', 'third', 'fourth']"
            ]
          },
          "metadata": {},
          "execution_count": 16
        }
      ]
    },
    {
      "cell_type": "markdown",
      "source": [
        "\n",
        "> Con lo que sabes sobre las `len()` funciones y los fragmentos de lista, ¿cómo combinarías ambos para obtener la segunda mitad de una lista cuando no sabes qué tamaño tiene? Experimenta en el shell de Python para confirmar que tu solución funciona.\n",
        "\n"
      ],
      "metadata": {
        "id": "USy321zJ75NZ"
      }
    },
    {
      "cell_type": "code",
      "source": [
        "z = x[len(x)//2:]\n",
        "z"
      ],
      "metadata": {
        "colab": {
          "base_uri": "https://localhost:8080/"
        },
        "id": "-BPQeCMR7uHe",
        "outputId": "50cbf364-0b2b-4377-d8ea-484a3a5ff5a5"
      },
      "execution_count": null,
      "outputs": [
        {
          "output_type": "execute_result",
          "data": {
            "text/plain": [
              "['third', 'fourth']"
            ]
          },
          "metadata": {},
          "execution_count": 17
        }
      ]
    },
    {
      "cell_type": "markdown",
      "source": [
        "## 5.3 Modifying lists"
      ],
      "metadata": {
        "id": "TNX2nuzg8MOJ"
      }
    },
    {
      "cell_type": "code",
      "source": [
        "x = [1, 2, 3, 4]\n",
        "x[1] = \"two\"\n",
        "x"
      ],
      "metadata": {
        "colab": {
          "base_uri": "https://localhost:8080/"
        },
        "id": "12bUPzjL8Ohs",
        "outputId": "ba5c657c-76a2-46dd-f447-c3bbcb9c35d5"
      },
      "execution_count": null,
      "outputs": [
        {
          "output_type": "execute_result",
          "data": {
            "text/plain": [
              "[1, 'two', 3, 4]"
            ]
          },
          "metadata": {},
          "execution_count": 18
        }
      ]
    },
    {
      "cell_type": "code",
      "source": [
        "x = [1, 2, 3, 4]\n",
        "x[len(x):] = [5, 6, 7]\n",
        "print(x)\n",
        "\n",
        "[1, 2, 3, 4, 5, 6, 7]\n",
        "\n",
        "x[:0] = [-1, 0]\n",
        "print(x)\n",
        "\n",
        "x[1:-1] = []\n",
        "print(x)\n",
        "\n"
      ],
      "metadata": {
        "colab": {
          "base_uri": "https://localhost:8080/"
        },
        "id": "YcV6Eg-u8Y_X",
        "outputId": "521873e5-2148-4f4a-d370-7898b61b504d"
      },
      "execution_count": null,
      "outputs": [
        {
          "output_type": "stream",
          "name": "stdout",
          "text": [
            "[1, 2, 3, 4, 5, 6, 7]\n",
            "[-1, 0, 1, 2, 3, 4, 5, 6, 7]\n",
            "[-1, 7]\n"
          ]
        }
      ]
    },
    {
      "cell_type": "code",
      "source": [
        "x = [1, 2, 3]\n",
        "x.append(\"four\")\n",
        "x"
      ],
      "metadata": {
        "colab": {
          "base_uri": "https://localhost:8080/"
        },
        "id": "386jVHv49PxO",
        "outputId": "bb303707-811d-4bd8-b137-673d1cd39e13"
      },
      "execution_count": null,
      "outputs": [
        {
          "output_type": "execute_result",
          "data": {
            "text/plain": [
              "[1, 2, 3, 'four']"
            ]
          },
          "metadata": {},
          "execution_count": 20
        }
      ]
    },
    {
      "cell_type": "code",
      "source": [
        "x = [1, 2, 3, 4]\n",
        "y = [5, 6, 7]\n",
        "x.append(y)\n",
        "x"
      ],
      "metadata": {
        "colab": {
          "base_uri": "https://localhost:8080/"
        },
        "id": "pjQP_eXZ9eEl",
        "outputId": "10bcfb47-1036-4115-c6ba-0178b2a9d34c"
      },
      "execution_count": null,
      "outputs": [
        {
          "output_type": "execute_result",
          "data": {
            "text/plain": [
              "[1, 2, 3, 4, [5, 6, 7]]"
            ]
          },
          "metadata": {},
          "execution_count": 22
        }
      ]
    },
    {
      "cell_type": "code",
      "source": [
        "x = [1, 2, 3, 4]\n",
        "y = [5, 6, 7]\n",
        "x.extend(y)\n",
        "x"
      ],
      "metadata": {
        "colab": {
          "base_uri": "https://localhost:8080/"
        },
        "id": "UkFtU2eo9SNW",
        "outputId": "4b8855a1-b81f-4a61-9017-b981d782bef1"
      },
      "execution_count": null,
      "outputs": [
        {
          "output_type": "execute_result",
          "data": {
            "text/plain": [
              "[1, 2, 3, 4, 5, 6, 7]"
            ]
          },
          "metadata": {},
          "execution_count": 21
        }
      ]
    },
    {
      "cell_type": "code",
      "source": [
        "x = [1, 2, 3]\n",
        "x.insert(2, \"hello\")\n",
        "print(x)\n",
        "\n",
        "x.insert(0, \"start\")\n",
        "print(x)"
      ],
      "metadata": {
        "colab": {
          "base_uri": "https://localhost:8080/"
        },
        "id": "ZQB1A55j-JMX",
        "outputId": "4b7893b4-5a93-4262-be34-e52129802343"
      },
      "execution_count": null,
      "outputs": [
        {
          "output_type": "stream",
          "name": "stdout",
          "text": [
            "[1, 2, 'hello', 3]\n",
            "['start', 1, 2, 'hello', 3]\n"
          ]
        }
      ]
    },
    {
      "cell_type": "code",
      "source": [
        "x = [1, 2, 3]\n",
        "x.insert(-1, \"hello\")\n",
        "print(x)"
      ],
      "metadata": {
        "colab": {
          "base_uri": "https://localhost:8080/"
        },
        "id": "Y4vqYHba-VZY",
        "outputId": "8c570fa3-c8d1-43cd-c468-0ea2f3113e5d"
      },
      "execution_count": null,
      "outputs": [
        {
          "output_type": "stream",
          "name": "stdout",
          "text": [
            "[1, 2, 'hello', 3]\n"
          ]
        }
      ]
    },
    {
      "cell_type": "code",
      "source": [
        "x = ['a', 2, 'c', 7, 9, 11]\n",
        "del x[1]\n",
        "print(x)\n",
        "\n",
        "del x[:2]\n",
        "print(x)"
      ],
      "metadata": {
        "colab": {
          "base_uri": "https://localhost:8080/"
        },
        "id": "sMZlpSXR_e9k",
        "outputId": "6d8a439e-d6e6-467e-95ef-5119fc2b57c9"
      },
      "execution_count": null,
      "outputs": [
        {
          "output_type": "stream",
          "name": "stdout",
          "text": [
            "['a', 'c', 7, 9, 11]\n",
            "[7, 9, 11]\n"
          ]
        }
      ]
    },
    {
      "cell_type": "code",
      "source": [
        "x = [1, 2, 3, 4, 3, 5]\n",
        "x.remove(3)\n",
        "print(x)\n",
        "\n",
        "x.remove(3)\n",
        "print(x)\n",
        "\n",
        "\n",
        "x.remove(3)"
      ],
      "metadata": {
        "colab": {
          "base_uri": "https://localhost:8080/",
          "height": 211
        },
        "id": "KQhtSTlA_27J",
        "outputId": "81c13472-f297-41f7-cde1-15d5b440c3ae"
      },
      "execution_count": null,
      "outputs": [
        {
          "output_type": "stream",
          "name": "stdout",
          "text": [
            "[1, 2, 4, 3, 5]\n",
            "[1, 2, 4, 5]\n"
          ]
        },
        {
          "output_type": "error",
          "ename": "ValueError",
          "evalue": "list.remove(x): x not in list",
          "traceback": [
            "\u001b[0;31m---------------------------------------------------------------------------\u001b[0m",
            "\u001b[0;31mValueError\u001b[0m                                Traceback (most recent call last)",
            "\u001b[0;32m<ipython-input-27-4b907d959a76>\u001b[0m in \u001b[0;36m<cell line: 9>\u001b[0;34m()\u001b[0m\n\u001b[1;32m      7\u001b[0m \u001b[0;34m\u001b[0m\u001b[0m\n\u001b[1;32m      8\u001b[0m \u001b[0;34m\u001b[0m\u001b[0m\n\u001b[0;32m----> 9\u001b[0;31m \u001b[0mx\u001b[0m\u001b[0;34m.\u001b[0m\u001b[0mremove\u001b[0m\u001b[0;34m(\u001b[0m\u001b[0;36m3\u001b[0m\u001b[0;34m)\u001b[0m\u001b[0;34m\u001b[0m\u001b[0;34m\u001b[0m\u001b[0m\n\u001b[0m",
            "\u001b[0;31mValueError\u001b[0m: list.remove(x): x not in list"
          ]
        }
      ]
    },
    {
      "cell_type": "code",
      "source": [
        "x = [1, 3, 5, 6, 7]\n",
        "x.reverse()\n",
        "x"
      ],
      "metadata": {
        "colab": {
          "base_uri": "https://localhost:8080/"
        },
        "id": "TXH4W8KklWqY",
        "outputId": "1eab6ec0-e6e8-4a62-bfa1-f1e63ee98b2c"
      },
      "execution_count": 1,
      "outputs": [
        {
          "output_type": "execute_result",
          "data": {
            "text/plain": [
              "[7, 6, 5, 3, 1]"
            ]
          },
          "metadata": {},
          "execution_count": 1
        }
      ]
    },
    {
      "cell_type": "markdown",
      "source": [
        "\n",
        "\n",
        "> Supongamos que tienes una lista de 10 elementos. ¿Cómo podrías mover los últimos tres elementos del final de la lista al principio, manteniendo el mismo orden?\n",
        "\n"
      ],
      "metadata": {
        "id": "d5wepPEtli4X"
      }
    },
    {
      "cell_type": "code",
      "source": [
        "x = [1, 2, 3, 4, 5, 6, 7, 8, 9, 10]\n",
        "x[:]= x[-3:] + x[0:7]\n",
        "x\n"
      ],
      "metadata": {
        "colab": {
          "base_uri": "https://localhost:8080/"
        },
        "id": "Go8_aBHzlpYv",
        "outputId": "bab1b211-a568-4426-adeb-142716a1116e"
      },
      "execution_count": 18,
      "outputs": [
        {
          "output_type": "execute_result",
          "data": {
            "text/plain": [
              "[8, 9, 10, 1, 2, 3, 4, 5, 6, 7]"
            ]
          },
          "metadata": {},
          "execution_count": 18
        }
      ]
    },
    {
      "cell_type": "markdown",
      "source": [
        "## 5.4 Sorting lists"
      ],
      "metadata": {
        "id": "JAGzeDBPnRUP"
      }
    },
    {
      "cell_type": "code",
      "source": [
        "x = [3, 8, 4, 0, 2, 1]\n",
        "x.sort()\n",
        "x"
      ],
      "metadata": {
        "colab": {
          "base_uri": "https://localhost:8080/"
        },
        "id": "0fLXePbfnTT7",
        "outputId": "635b1b1a-89c4-486e-fd47-127b9170a637"
      },
      "execution_count": 19,
      "outputs": [
        {
          "output_type": "execute_result",
          "data": {
            "text/plain": [
              "[0, 1, 2, 3, 4, 8]"
            ]
          },
          "metadata": {},
          "execution_count": 19
        }
      ]
    },
    {
      "cell_type": "code",
      "source": [
        "x = [2, 4, 1, 3]\n",
        "y = x[:]\n",
        "y.sort()\n",
        "print(y)\n",
        "\n",
        "print(x)"
      ],
      "metadata": {
        "colab": {
          "base_uri": "https://localhost:8080/"
        },
        "id": "w6p6vw8inZdc",
        "outputId": "81e66a56-3363-4847-a723-7fd6b5735f7c"
      },
      "execution_count": 20,
      "outputs": [
        {
          "output_type": "stream",
          "name": "stdout",
          "text": [
            "[1, 2, 3, 4]\n",
            "[2, 4, 1, 3]\n"
          ]
        }
      ]
    },
    {
      "cell_type": "code",
      "source": [
        "x = [\"Life\", \"Is\", \"Enchanting\"]\n",
        "x.sort()\n",
        "x"
      ],
      "metadata": {
        "colab": {
          "base_uri": "https://localhost:8080/"
        },
        "id": "s2coZ8xxnkpD",
        "outputId": "e9eb8fd0-ed36-4da2-b868-4c69c33182f3"
      },
      "execution_count": 21,
      "outputs": [
        {
          "output_type": "execute_result",
          "data": {
            "text/plain": [
              "['Enchanting', 'Is', 'Life']"
            ]
          },
          "metadata": {},
          "execution_count": 21
        }
      ]
    },
    {
      "cell_type": "code",
      "source": [
        "x = [1, 2, 'hello', 3]\n",
        "x.sort()"
      ],
      "metadata": {
        "colab": {
          "base_uri": "https://localhost:8080/",
          "height": 159
        },
        "id": "u_2cFvc4nwPW",
        "outputId": "79c6126a-214f-4f63-9cba-0cb9c208c04b"
      },
      "execution_count": 22,
      "outputs": [
        {
          "output_type": "error",
          "ename": "TypeError",
          "evalue": "'<' not supported between instances of 'str' and 'int'",
          "traceback": [
            "\u001b[0;31m---------------------------------------------------------------------------\u001b[0m",
            "\u001b[0;31mTypeError\u001b[0m                                 Traceback (most recent call last)",
            "\u001b[0;32m<ipython-input-22-ff66ee7b4234>\u001b[0m in \u001b[0;36m<cell line: 2>\u001b[0;34m()\u001b[0m\n\u001b[1;32m      1\u001b[0m \u001b[0mx\u001b[0m \u001b[0;34m=\u001b[0m \u001b[0;34m[\u001b[0m\u001b[0;36m1\u001b[0m\u001b[0;34m,\u001b[0m \u001b[0;36m2\u001b[0m\u001b[0;34m,\u001b[0m \u001b[0;34m'hello'\u001b[0m\u001b[0;34m,\u001b[0m \u001b[0;36m3\u001b[0m\u001b[0;34m]\u001b[0m\u001b[0;34m\u001b[0m\u001b[0;34m\u001b[0m\u001b[0m\n\u001b[0;32m----> 2\u001b[0;31m \u001b[0mx\u001b[0m\u001b[0;34m.\u001b[0m\u001b[0msort\u001b[0m\u001b[0;34m(\u001b[0m\u001b[0;34m)\u001b[0m\u001b[0;34m\u001b[0m\u001b[0;34m\u001b[0m\u001b[0m\n\u001b[0m",
            "\u001b[0;31mTypeError\u001b[0m: '<' not supported between instances of 'str' and 'int'"
          ]
        }
      ]
    },
    {
      "cell_type": "code",
      "source": [
        "x = [[3, 5], [2, 9], [2, 3], [4, 1], [3, 2]]\n",
        "x.sort()\n",
        "x"
      ],
      "metadata": {
        "colab": {
          "base_uri": "https://localhost:8080/"
        },
        "id": "4ylwkDC2n3mM",
        "outputId": "d41ed25c-951f-47f4-f52c-ce1d2c1a4a87"
      },
      "execution_count": 23,
      "outputs": [
        {
          "output_type": "execute_result",
          "data": {
            "text/plain": [
              "[[2, 3], [2, 9], [3, 2], [3, 5], [4, 1]]"
            ]
          },
          "metadata": {},
          "execution_count": 23
        }
      ]
    },
    {
      "cell_type": "code",
      "source": [
        "x = [[3, 5, 1], [2, 3, 1], [2, 3, 4], [4, 1], [3, 2]]\n",
        "x.sort()\n",
        "x"
      ],
      "metadata": {
        "colab": {
          "base_uri": "https://localhost:8080/"
        },
        "id": "ypXqkCAXoHFL",
        "outputId": "b226360e-720c-4b1a-be90-b23acb090d76"
      },
      "execution_count": 28,
      "outputs": [
        {
          "output_type": "execute_result",
          "data": {
            "text/plain": [
              "[[2, 3, 1], [2, 3, 4], [3, 2], [3, 5, 1], [4, 1]]"
            ]
          },
          "metadata": {},
          "execution_count": 28
        }
      ]
    },
    {
      "cell_type": "markdown",
      "source": [
        "### 5.4.1 Custom sorting"
      ],
      "metadata": {
        "id": "mNiPWE9sseda"
      }
    },
    {
      "cell_type": "code",
      "source": [
        "# ordenamiento lexicografico\n",
        "word_list = ['Python', 'is', 'better', 'than', 'C']\n",
        "word_list.sort()\n",
        "print(word_list)\n",
        "\n",
        "# ordenamiento custom\n",
        "def comp_num_of_chars(string1):\n",
        "    return len(string1)\n",
        "\n",
        "word_list = ['Python', 'is', 'better', 'than', 'C']\n",
        "word_list.sort(key=comp_num_of_chars)\n",
        "print(word_list)\n",
        "\n"
      ],
      "metadata": {
        "colab": {
          "base_uri": "https://localhost:8080/"
        },
        "id": "eeaYvoKzszEO",
        "outputId": "02801bad-97e8-4bf2-bf02-dc0f1bb90522"
      },
      "execution_count": 30,
      "outputs": [
        {
          "output_type": "stream",
          "name": "stdout",
          "text": [
            "['C', 'Python', 'better', 'is', 'than']\n",
            "['C', 'is', 'than', 'Python', 'better']\n"
          ]
        }
      ]
    },
    {
      "cell_type": "markdown",
      "source": [
        "### 5.4.2 The sorted() function"
      ],
      "metadata": {
        "id": "UCncEDFcty-D"
      }
    },
    {
      "cell_type": "code",
      "source": [
        "x = (4, 3, 1, 2)\n",
        "y = sorted(x)\n",
        "print(y)\n",
        "\n",
        "z = sorted(x, reverse=True)\n",
        "z"
      ],
      "metadata": {
        "colab": {
          "base_uri": "https://localhost:8080/"
        },
        "id": "q982u_fTtyY8",
        "outputId": "f278bf10-54e6-4fc4-efb5-ae176cf57e50"
      },
      "execution_count": 32,
      "outputs": [
        {
          "output_type": "stream",
          "name": "stdout",
          "text": [
            "[1, 2, 3, 4]\n"
          ]
        },
        {
          "output_type": "execute_result",
          "data": {
            "text/plain": [
              "[4, 3, 2, 1]"
            ]
          },
          "metadata": {},
          "execution_count": 32
        }
      ]
    },
    {
      "cell_type": "markdown",
      "source": [
        "> ### Pruebe esto:\n",
        "Ordenar listas\n",
        "Supongamos que tenemos una lista en la que cada elemento es a su vez una lista: `[[1, 2, 3], [2, 1, 3], [4, 0, 1]]`. Si quisiéramos ordenar esta lista por el segundo elemento de cada lista de modo que el resultado fuera `[[4, 0, 1], [2, 1, 3], [1, 2, 3]]`, ¿qué función escribiríamos para pasar como keyvalor al sort()método?"
      ],
      "metadata": {
        "id": "kTWaa8pJuTlJ"
      }
    },
    {
      "cell_type": "code",
      "source": [
        "x = [[1, 2, 3], [2, 1, 3], [4, 0, 1]]\n",
        "\n",
        "def sort_array(array):\n",
        "  return array[1]\n",
        "\n",
        "x.sort(key=sort_array)\n",
        "x\n",
        ""
      ],
      "metadata": {
        "colab": {
          "base_uri": "https://localhost:8080/"
        },
        "id": "iacFUEYBuYek",
        "outputId": "225ff832-9bf7-4223-b0c8-56a2fc08629a"
      },
      "execution_count": 36,
      "outputs": [
        {
          "output_type": "execute_result",
          "data": {
            "text/plain": [
              "[[4, 0, 1], [2, 1, 3], [1, 2, 3]]"
            ]
          },
          "metadata": {},
          "execution_count": 36
        }
      ]
    },
    {
      "cell_type": "markdown",
      "source": [
        "## 5.5 Other common list operations"
      ],
      "metadata": {
        "id": "LfxFjiOPvk-m"
      }
    },
    {
      "cell_type": "markdown",
      "source": [
        "### 5.5.1 List membership with the in operator"
      ],
      "metadata": {
        "id": "U8a11z3jvyv8"
      }
    },
    {
      "cell_type": "code",
      "source": [
        "3 in [1, 3, 4, 5]"
      ],
      "metadata": {
        "colab": {
          "base_uri": "https://localhost:8080/"
        },
        "id": "jahEMvXOvnOY",
        "outputId": "a70bbc2d-8ad4-4cc5-f842-68d7d77d0e39"
      },
      "execution_count": 38,
      "outputs": [
        {
          "output_type": "execute_result",
          "data": {
            "text/plain": [
              "True"
            ]
          },
          "metadata": {},
          "execution_count": 38
        }
      ]
    },
    {
      "cell_type": "code",
      "source": [
        "3 in [\"one\", \"two\", \"three\"]"
      ],
      "metadata": {
        "colab": {
          "base_uri": "https://localhost:8080/"
        },
        "id": "vKTSBAEbwTzp",
        "outputId": "f335c5e4-cfae-4a66-9b15-dfdcc977942e"
      },
      "execution_count": 40,
      "outputs": [
        {
          "output_type": "execute_result",
          "data": {
            "text/plain": [
              "False"
            ]
          },
          "metadata": {},
          "execution_count": 40
        }
      ]
    },
    {
      "cell_type": "code",
      "source": [
        "3 not in [1, 3, 4, 5]"
      ],
      "metadata": {
        "colab": {
          "base_uri": "https://localhost:8080/"
        },
        "id": "GT2ak1tzwRT3",
        "outputId": "70edf092-bd98-4f1c-9f92-8610ffe7fbb2"
      },
      "execution_count": 39,
      "outputs": [
        {
          "output_type": "execute_result",
          "data": {
            "text/plain": [
              "False"
            ]
          },
          "metadata": {},
          "execution_count": 39
        }
      ]
    },
    {
      "cell_type": "code",
      "source": [
        "3 not in [\"one\", \"two\", \"three\"]"
      ],
      "metadata": {
        "colab": {
          "base_uri": "https://localhost:8080/"
        },
        "id": "lxi1YQFZwXNn",
        "outputId": "80ca5bb9-5eb6-4096-d5e9-9f366c0f9561"
      },
      "execution_count": 41,
      "outputs": [
        {
          "output_type": "execute_result",
          "data": {
            "text/plain": [
              "True"
            ]
          },
          "metadata": {},
          "execution_count": 41
        }
      ]
    },
    {
      "cell_type": "markdown",
      "source": [
        "### 5.5.2 List concatenation with the + operator"
      ],
      "metadata": {
        "id": "Z2HcCveYweYd"
      }
    },
    {
      "cell_type": "code",
      "source": [
        "z = [1, 2, 3] + [4, 5]\n",
        "z"
      ],
      "metadata": {
        "colab": {
          "base_uri": "https://localhost:8080/"
        },
        "id": "x8KA_OSpwgF2",
        "outputId": "ff85a17f-62a1-4a05-d428-4198a9752f29"
      },
      "execution_count": 44,
      "outputs": [
        {
          "output_type": "execute_result",
          "data": {
            "text/plain": [
              "[1, 2, 3, 4, 5]"
            ]
          },
          "metadata": {},
          "execution_count": 44
        }
      ]
    },
    {
      "cell_type": "markdown",
      "source": [
        "### 5.5.4 List minimum or maximum with min and max"
      ],
      "metadata": {
        "id": "S1kglODFw36q"
      }
    },
    {
      "cell_type": "code",
      "source": [
        "min([3, 7, 0, -2, 11])"
      ],
      "metadata": {
        "colab": {
          "base_uri": "https://localhost:8080/"
        },
        "id": "ec0txx98w55Z",
        "outputId": "027f0f80-c484-42b7-cc4e-c812647b6434"
      },
      "execution_count": 45,
      "outputs": [
        {
          "output_type": "execute_result",
          "data": {
            "text/plain": [
              "-2"
            ]
          },
          "metadata": {},
          "execution_count": 45
        }
      ]
    },
    {
      "cell_type": "code",
      "source": [
        "max([4, \"Hello\", [1, 2]])"
      ],
      "metadata": {
        "colab": {
          "base_uri": "https://localhost:8080/",
          "height": 141
        },
        "id": "tQ7ckLhnxAnP",
        "outputId": "1f63eb66-8ed3-456e-9c4b-84a3827308de"
      },
      "execution_count": 46,
      "outputs": [
        {
          "output_type": "error",
          "ename": "TypeError",
          "evalue": "'>' not supported between instances of 'str' and 'int'",
          "traceback": [
            "\u001b[0;31m---------------------------------------------------------------------------\u001b[0m",
            "\u001b[0;31mTypeError\u001b[0m                                 Traceback (most recent call last)",
            "\u001b[0;32m<ipython-input-46-15ab1869d5d5>\u001b[0m in \u001b[0;36m<cell line: 1>\u001b[0;34m()\u001b[0m\n\u001b[0;32m----> 1\u001b[0;31m \u001b[0mmax\u001b[0m\u001b[0;34m(\u001b[0m\u001b[0;34m[\u001b[0m\u001b[0;36m4\u001b[0m\u001b[0;34m,\u001b[0m \u001b[0;34m\"Hello\"\u001b[0m\u001b[0;34m,\u001b[0m \u001b[0;34m[\u001b[0m\u001b[0;36m1\u001b[0m\u001b[0;34m,\u001b[0m \u001b[0;36m2\u001b[0m\u001b[0;34m]\u001b[0m\u001b[0;34m]\u001b[0m\u001b[0;34m)\u001b[0m\u001b[0;34m\u001b[0m\u001b[0;34m\u001b[0m\u001b[0m\n\u001b[0m",
            "\u001b[0;31mTypeError\u001b[0m: '>' not supported between instances of 'str' and 'int'"
          ]
        }
      ]
    },
    {
      "cell_type": "markdown",
      "source": [
        "### 5.5.5 List search with index"
      ],
      "metadata": {
        "id": "Ez8BRZyBxQqy"
      }
    },
    {
      "cell_type": "code",
      "source": [
        "x = [1, 3, \"five\", 7, -2]\n",
        "x.index(7)"
      ],
      "metadata": {
        "colab": {
          "base_uri": "https://localhost:8080/"
        },
        "id": "y-fuTZ2exSHm",
        "outputId": "e7592d62-497c-4640-88a5-fffef8975070"
      },
      "execution_count": 47,
      "outputs": [
        {
          "output_type": "execute_result",
          "data": {
            "text/plain": [
              "3"
            ]
          },
          "metadata": {},
          "execution_count": 47
        }
      ]
    },
    {
      "cell_type": "code",
      "source": [
        "# devuelve el primer indice encontrado en la lista\n",
        "x = [1, 3, \"five\", 7, -2, 7]\n",
        "x.index(7)"
      ],
      "metadata": {
        "colab": {
          "base_uri": "https://localhost:8080/"
        },
        "id": "E8JFmMSZyMES",
        "outputId": "6663de83-0393-4df3-8a79-b9cbf3a1d00b"
      },
      "execution_count": 54,
      "outputs": [
        {
          "output_type": "execute_result",
          "data": {
            "text/plain": [
              "3"
            ]
          },
          "metadata": {},
          "execution_count": 54
        }
      ]
    },
    {
      "cell_type": "code",
      "source": [
        "x = [1, 3, \"five\", 7, -2]\n",
        "x.index(5)"
      ],
      "metadata": {
        "colab": {
          "base_uri": "https://localhost:8080/",
          "height": 159
        },
        "id": "MGRNuER-xa7C",
        "outputId": "33309d69-2c57-4ea0-9655-bf0efd422c7e"
      },
      "execution_count": 48,
      "outputs": [
        {
          "output_type": "error",
          "ename": "ValueError",
          "evalue": "5 is not in list",
          "traceback": [
            "\u001b[0;31m---------------------------------------------------------------------------\u001b[0m",
            "\u001b[0;31mValueError\u001b[0m                                Traceback (most recent call last)",
            "\u001b[0;32m<ipython-input-48-0ea567796665>\u001b[0m in \u001b[0;36m<cell line: 2>\u001b[0;34m()\u001b[0m\n\u001b[1;32m      1\u001b[0m \u001b[0mx\u001b[0m \u001b[0;34m=\u001b[0m \u001b[0;34m[\u001b[0m\u001b[0;36m1\u001b[0m\u001b[0;34m,\u001b[0m \u001b[0;36m3\u001b[0m\u001b[0;34m,\u001b[0m \u001b[0;34m\"five\"\u001b[0m\u001b[0;34m,\u001b[0m \u001b[0;36m7\u001b[0m\u001b[0;34m,\u001b[0m \u001b[0;34m-\u001b[0m\u001b[0;36m2\u001b[0m\u001b[0;34m]\u001b[0m\u001b[0;34m\u001b[0m\u001b[0;34m\u001b[0m\u001b[0m\n\u001b[0;32m----> 2\u001b[0;31m \u001b[0mx\u001b[0m\u001b[0;34m.\u001b[0m\u001b[0mindex\u001b[0m\u001b[0;34m(\u001b[0m\u001b[0;36m5\u001b[0m\u001b[0;34m)\u001b[0m\u001b[0;34m\u001b[0m\u001b[0;34m\u001b[0m\u001b[0m\n\u001b[0m",
            "\u001b[0;31mValueError\u001b[0m: 5 is not in list"
          ]
        }
      ]
    },
    {
      "cell_type": "markdown",
      "source": [
        "### 5.5.6 List matches with count"
      ],
      "metadata": {
        "id": "--jRpcfUxtAR"
      }
    },
    {
      "cell_type": "code",
      "source": [
        "x = [1, 2, 2, 3, 5, 2, 5]\n",
        "print(x.count(2))\n",
        "print(x.count(5))\n",
        "print(x.count(4))\n"
      ],
      "metadata": {
        "colab": {
          "base_uri": "https://localhost:8080/"
        },
        "id": "ieKT7x9TxutG",
        "outputId": "8cc8e9b4-0ab9-461a-d06f-e28eec931b12"
      },
      "execution_count": 52,
      "outputs": [
        {
          "output_type": "stream",
          "name": "stdout",
          "text": [
            "3\n",
            "2\n",
            "0\n"
          ]
        },
        {
          "output_type": "execute_result",
          "data": {
            "text/plain": [
              "1"
            ]
          },
          "metadata": {},
          "execution_count": 52
        }
      ]
    }
  ]
}