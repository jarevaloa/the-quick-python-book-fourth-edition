{
  "nbformat": 4,
  "nbformat_minor": 0,
  "metadata": {
    "colab": {
      "provenance": [],
      "authorship_tag": "ABX9TyOfvlvHhZFhJanIxH7TZyNm",
      "include_colab_link": true
    },
    "kernelspec": {
      "name": "python3",
      "display_name": "Python 3"
    },
    "language_info": {
      "name": "python"
    }
  },
  "cells": [
    {
      "cell_type": "markdown",
      "metadata": {
        "id": "view-in-github",
        "colab_type": "text"
      },
      "source": [
        "<a href=\"https://colab.research.google.com/github/jarevaloa/the-quick-python-book-fourth-edition/blob/main/the_quick_python_book_fourth_edition.ipynb\" target=\"_parent\"><img src=\"https://colab.research.google.com/assets/colab-badge.svg\" alt=\"Open In Colab\"/></a>"
      ]
    },
    {
      "cell_type": "markdown",
      "source": [
        "###3.2.2 List"
      ],
      "metadata": {
        "id": "NrNe-2sB3WRz"
      }
    },
    {
      "cell_type": "code",
      "execution_count": 4,
      "metadata": {
        "colab": {
          "base_uri": "https://localhost:8080/"
        },
        "id": "c80m2C3h3RfT",
        "outputId": "c8174857-9e87-457b-cdbc-c754491cf6c8"
      },
      "outputs": [
        {
          "output_type": "execute_result",
          "data": {
            "text/plain": [
              "[1, 'two', 3, 4.0, ['a', 'b'], (5, 6)]"
            ]
          },
          "metadata": {},
          "execution_count": 4
        }
      ],
      "source": [
        "[]\n",
        "[1]\n",
        "[1, 2, 3, 4, 5, 6, 7, 8, 9]\n",
        "[1, \"two\", 3, 4.0, [\"a\", \"b\"], (5, 6)]"
      ]
    },
    {
      "cell_type": "code",
      "source": [
        "x = [\"first\", \"second\", \"third\", \"fourth\"]\n",
        "x[0]"
      ],
      "metadata": {
        "colab": {
          "base_uri": "https://localhost:8080/",
          "height": 35
        },
        "id": "owG1X2B84fcu",
        "outputId": "ea04a3ec-0a5d-4c90-9787-226832051dcc"
      },
      "execution_count": 6,
      "outputs": [
        {
          "output_type": "execute_result",
          "data": {
            "text/plain": [
              "'first'"
            ],
            "application/vnd.google.colaboratory.intrinsic+json": {
              "type": "string"
            }
          },
          "metadata": {},
          "execution_count": 6
        }
      ]
    },
    {
      "cell_type": "code",
      "source": [
        "x[2]"
      ],
      "metadata": {
        "colab": {
          "base_uri": "https://localhost:8080/",
          "height": 35
        },
        "id": "Wy3a3Spi4jy9",
        "outputId": "36be9e60-df5e-4243-f301-f27573713b71"
      },
      "execution_count": 7,
      "outputs": [
        {
          "output_type": "execute_result",
          "data": {
            "text/plain": [
              "'third'"
            ],
            "application/vnd.google.colaboratory.intrinsic+json": {
              "type": "string"
            }
          },
          "metadata": {},
          "execution_count": 7
        }
      ]
    },
    {
      "cell_type": "code",
      "source": [
        "x[-1]"
      ],
      "metadata": {
        "colab": {
          "base_uri": "https://localhost:8080/",
          "height": 35
        },
        "id": "gucpfVd54oTs",
        "outputId": "0ee864e1-e35a-4367-8187-22e3d9115f5f"
      },
      "execution_count": 8,
      "outputs": [
        {
          "output_type": "execute_result",
          "data": {
            "text/plain": [
              "'fourth'"
            ],
            "application/vnd.google.colaboratory.intrinsic+json": {
              "type": "string"
            }
          },
          "metadata": {},
          "execution_count": 8
        }
      ]
    },
    {
      "cell_type": "code",
      "source": [
        "x[-2]"
      ],
      "metadata": {
        "colab": {
          "base_uri": "https://localhost:8080/",
          "height": 35
        },
        "id": "ZJ9hxzqo4sD0",
        "outputId": "b6fea2b1-ed51-4354-9445-09df0b7014dc"
      },
      "execution_count": 9,
      "outputs": [
        {
          "output_type": "execute_result",
          "data": {
            "text/plain": [
              "'third'"
            ],
            "application/vnd.google.colaboratory.intrinsic+json": {
              "type": "string"
            }
          },
          "metadata": {},
          "execution_count": 9
        }
      ]
    },
    {
      "cell_type": "code",
      "source": [
        "x[1:-1]"
      ],
      "metadata": {
        "colab": {
          "base_uri": "https://localhost:8080/"
        },
        "id": "5DWhi6794t4s",
        "outputId": "9f8b3a55-d58f-4040-f71b-23d638e74ed3"
      },
      "execution_count": 10,
      "outputs": [
        {
          "output_type": "execute_result",
          "data": {
            "text/plain": [
              "['second', 'third']"
            ]
          },
          "metadata": {},
          "execution_count": 10
        }
      ]
    },
    {
      "cell_type": "code",
      "source": [
        "x[0:3]"
      ],
      "metadata": {
        "colab": {
          "base_uri": "https://localhost:8080/"
        },
        "id": "UE9ga3QV40vZ",
        "outputId": "ab04c3b3-e2b8-47b3-d446-18a954d65b5c"
      },
      "execution_count": 11,
      "outputs": [
        {
          "output_type": "execute_result",
          "data": {
            "text/plain": [
              "['first', 'second', 'third']"
            ]
          },
          "metadata": {},
          "execution_count": 11
        }
      ]
    },
    {
      "cell_type": "code",
      "source": [
        "x[-2:-1]"
      ],
      "metadata": {
        "colab": {
          "base_uri": "https://localhost:8080/"
        },
        "id": "4S-yecVV47KZ",
        "outputId": "6396ed8a-8107-4356-8fff-d64b6ad738c9"
      },
      "execution_count": 12,
      "outputs": [
        {
          "output_type": "execute_result",
          "data": {
            "text/plain": [
              "['third']"
            ]
          },
          "metadata": {},
          "execution_count": 12
        }
      ]
    },
    {
      "cell_type": "code",
      "source": [
        "x[:3]"
      ],
      "metadata": {
        "colab": {
          "base_uri": "https://localhost:8080/"
        },
        "id": "YX6HKuXq5Dww",
        "outputId": "b67c3fae-372b-4326-e032-866715b3c872"
      },
      "execution_count": 13,
      "outputs": [
        {
          "output_type": "execute_result",
          "data": {
            "text/plain": [
              "['first', 'second', 'third']"
            ]
          },
          "metadata": {},
          "execution_count": 13
        }
      ]
    },
    {
      "cell_type": "code",
      "source": [
        "x[-2:]"
      ],
      "metadata": {
        "colab": {
          "base_uri": "https://localhost:8080/"
        },
        "id": "o7S1eLQS5ILk",
        "outputId": "3fb4d392-adb5-4b43-f524-260c5641996a"
      },
      "execution_count": 14,
      "outputs": [
        {
          "output_type": "execute_result",
          "data": {
            "text/plain": [
              "['third', 'fourth']"
            ]
          },
          "metadata": {},
          "execution_count": 14
        }
      ]
    },
    {
      "cell_type": "code",
      "source": [
        "x = [1, 2, 3, 4, 5, 6, 7, 8, 9]"
      ],
      "metadata": {
        "id": "n7YEspU25abg"
      },
      "execution_count": 15,
      "outputs": []
    },
    {
      "cell_type": "code",
      "source": [
        "x[1] = \"two\""
      ],
      "metadata": {
        "id": "T7ZB2G2u5cQd"
      },
      "execution_count": 17,
      "outputs": []
    },
    {
      "cell_type": "code",
      "source": [
        "x = [1, 2, 3, 4, 5, 6, 7, 8, 9]\n",
        "x[1] = \"two\"\n",
        "\n",
        "print(x) # [1, 'two', 3, 4, 5, 6, 7, 8, 9]\n",
        "x[8:9] = []\n",
        "print(x) #[1, 'two', 3, 4, 5, 6, 7, 8]\n",
        "x[5:7] = [6.0, 6.5, 7.0]\n",
        "print(x) #[1, 'two', 3, 4, 5, 6.0, 6.5, 7.0, 8]\n",
        "\n",
        "x[5:]"
      ],
      "metadata": {
        "colab": {
          "base_uri": "https://localhost:8080/"
        },
        "id": "s2hUjlTa5jdQ",
        "outputId": "50dc6bc6-6e90-449a-b5d6-71c33f6282a5"
      },
      "execution_count": 27,
      "outputs": [
        {
          "output_type": "stream",
          "name": "stdout",
          "text": [
            "[1, 'two', 3, 4, 5, 6, 7, 8, 9]\n",
            "[1, 'two', 3, 4, 5, 6, 7, 8]\n",
            "[1, 'two', 3, 4, 5, 6.0, 6.5, 7.0, 8]\n"
          ]
        },
        {
          "output_type": "execute_result",
          "data": {
            "text/plain": [
              "[6.0, 6.5, 7.0, 8]"
            ]
          },
          "metadata": {},
          "execution_count": 27
        }
      ]
    },
    {
      "cell_type": "code",
      "source": [
        "x = [1, 2, 3, 4, 5, 6, 7, 8, 9]\n",
        "print(len(x)) #9\n",
        "\n",
        "y = [-1, 0] + x #[-1, 0, 1, 2, 3, 4, 5, 6, 7, 8, 9]\n",
        "print(y)\n",
        "x.reverse()\n",
        "x"
      ],
      "metadata": {
        "colab": {
          "base_uri": "https://localhost:8080/"
        },
        "id": "5vtoeUIU8n_o",
        "outputId": "f4105c40-2bcb-4788-dbe6-edf0574674d1"
      },
      "execution_count": 29,
      "outputs": [
        {
          "output_type": "stream",
          "name": "stdout",
          "text": [
            "9\n",
            "[-1, 0, 1, 2, 3, 4, 5, 6, 7, 8, 9]\n"
          ]
        },
        {
          "output_type": "execute_result",
          "data": {
            "text/plain": [
              "[9, 8, 7, 6, 5, 4, 3, 2, 1]"
            ]
          },
          "metadata": {},
          "execution_count": 29
        }
      ]
    },
    {
      "cell_type": "markdown",
      "source": [
        "### 3.2.3 Tuplas"
      ],
      "metadata": {
        "id": "Urh5qyO79Lek"
      }
    },
    {
      "cell_type": "code",
      "source": [
        "()\n",
        "(1,)\n",
        "(1, 2, 3, 4, 5, 6, 7, 8, 12)\n",
        "(1, \"two\", 3, 4.0, [\"a\", \"b\"], (5, 6))"
      ],
      "metadata": {
        "colab": {
          "base_uri": "https://localhost:8080/"
        },
        "id": "TIlazMPj9OXz",
        "outputId": "8e19c184-a0c9-463d-ab18-e1fb83712dc7"
      },
      "execution_count": 30,
      "outputs": [
        {
          "output_type": "execute_result",
          "data": {
            "text/plain": [
              "(1, 'two', 3, 4.0, ['a', 'b'], (5, 6))"
            ]
          },
          "metadata": {},
          "execution_count": 30
        }
      ]
    },
    {
      "cell_type": "code",
      "source": [
        "x = [1, 2, 3, 4]\n",
        "tuple(x)"
      ],
      "metadata": {
        "colab": {
          "base_uri": "https://localhost:8080/"
        },
        "id": "_eHdrmjx9ZqQ",
        "outputId": "d97382e2-9c2b-47d9-cd31-abfe7474befe"
      },
      "execution_count": 32,
      "outputs": [
        {
          "output_type": "execute_result",
          "data": {
            "text/plain": [
              "(1, 2, 3, 4)"
            ]
          },
          "metadata": {},
          "execution_count": 32
        }
      ]
    },
    {
      "cell_type": "code",
      "source": [
        "x = (1, 2, 3, 4)\n",
        "list(x)"
      ],
      "metadata": {
        "colab": {
          "base_uri": "https://localhost:8080/"
        },
        "id": "EMOELJg39qOD",
        "outputId": "6901fa90-52a8-4152-9706-1626c6bbad5a"
      },
      "execution_count": 33,
      "outputs": [
        {
          "output_type": "execute_result",
          "data": {
            "text/plain": [
              "[1, 2, 3, 4]"
            ]
          },
          "metadata": {},
          "execution_count": 33
        }
      ]
    },
    {
      "cell_type": "markdown",
      "source": [
        "### 3.2.4 Cadenas"
      ],
      "metadata": {
        "id": "g1rQoEDndedl"
      }
    },
    {
      "cell_type": "code",
      "source": [
        "\"A string in double quotes can contain 'single quote' characters.\"\n",
        "'A string in single quotes can contain \"double quote\" characters.'\n",
        "'''\\tA string which starts with a tab; ends with a newline character.\\n'''\n",
        "\"\"\"This is a triple double quoted string - triple quoted strings (single\n",
        "   or double quoted) are only kind that can contain real newlines.\"\"\""
      ],
      "metadata": {
        "colab": {
          "base_uri": "https://localhost:8080/",
          "height": 35
        },
        "id": "xprUXowjdhmS",
        "outputId": "3b767155-b172-4c79-c0dd-753116acc5a7"
      },
      "execution_count": 1,
      "outputs": [
        {
          "output_type": "execute_result",
          "data": {
            "text/plain": [
              "'This is a triple double quoted string - triple quoted strings (single \\n   or double quoted) are only kind that can contain real newlines.'"
            ],
            "application/vnd.google.colaboratory.intrinsic+json": {
              "type": "string"
            }
          },
          "metadata": {},
          "execution_count": 1
        }
      ]
    },
    {
      "cell_type": "code",
      "source": [
        "x = \"live and     let \\t   \\tlive\"\n",
        "print(x.split())\n",
        "print(x)\n",
        "print(type(x))\n",
        "\n",
        "\n",
        "replaced = x.replace(\"    let \\t   \\tlive\", \"enjoy life\")\n",
        "print(replaced)\n",
        "\n",
        "\n",
        "import re\n",
        "regexpr = re.compile(r\"[\\t ]+\")\n",
        "regexpr.sub(\" \", x)"
      ],
      "metadata": {
        "colab": {
          "base_uri": "https://localhost:8080/",
          "height": 105
        },
        "id": "Z9jC0THwdo5Y",
        "outputId": "776863b6-c952-456c-d9d2-e78c13f72391"
      },
      "execution_count": 13,
      "outputs": [
        {
          "output_type": "stream",
          "name": "stdout",
          "text": [
            "['live', 'and', 'let', 'live']\n",
            "live and     let \t   \tlive\n",
            "<class 'str'>\n",
            "live and     let \t   \tlive\n"
          ]
        },
        {
          "output_type": "execute_result",
          "data": {
            "text/plain": [
              "'live and let live'"
            ],
            "application/vnd.google.colaboratory.intrinsic+json": {
              "type": "string"
            }
          },
          "metadata": {},
          "execution_count": 13
        }
      ]
    },
    {
      "cell_type": "code",
      "source": [
        "e = 2.718\n",
        "x = [1, \"two\", 3, 4.0, [\"a\", \"b\"], (5, 6)]\n",
        "print(\"The constant e is:\", e, \"and the list x is:\", x)\n",
        "\n",
        "print(f\"the value of e is: {e}\")\n",
        "\n"
      ],
      "metadata": {
        "colab": {
          "base_uri": "https://localhost:8080/"
        },
        "id": "m_3hdE53hRl0",
        "outputId": "70529160-ff55-4ea5-8828-addf903c04bc"
      },
      "execution_count": 14,
      "outputs": [
        {
          "output_type": "stream",
          "name": "stdout",
          "text": [
            "The constant e is: 2.718 and the list x is: [1, 'two', 3, 4.0, ['a', 'b'], (5, 6)]\n",
            "the value of e is: 2.718\n"
          ]
        }
      ]
    },
    {
      "cell_type": "markdown",
      "source": [
        "# 3.2.5 Diccionarios"
      ],
      "metadata": {
        "id": "c_Hn1zWvhyGj"
      }
    },
    {
      "cell_type": "code",
      "source": [
        "x = {1: \"one\", 2: \"two\"}\n",
        "x[\"first\"] = \"one\"\n",
        "x[(\"Delorme\", \"Ryan\", 1995)] = (1, 2, 3)\n",
        "keys  = list(x.keys())\n",
        "print(keys)\n",
        "print(len(x))\n",
        "\n",
        "x[1]\n",
        "\n",
        "\n",
        "print(x.get(1, \"not available\"))\n",
        "\n",
        "x.get(4, \"not available\")\n",
        "x.get(3, \"not available\")"
      ],
      "metadata": {
        "colab": {
          "base_uri": "https://localhost:8080/",
          "height": 87
        },
        "id": "_ClSfPESiLRN",
        "outputId": "a4f34799-a52d-4cbf-e72f-d8ca4520b1b3"
      },
      "execution_count": 24,
      "outputs": [
        {
          "output_type": "stream",
          "name": "stdout",
          "text": [
            "[1, 2, 'first', ('Delorme', 'Ryan', 1995)]\n",
            "4\n",
            "one\n"
          ]
        },
        {
          "output_type": "execute_result",
          "data": {
            "text/plain": [
              "'not available'"
            ],
            "application/vnd.google.colaboratory.intrinsic+json": {
              "type": "string"
            }
          },
          "metadata": {},
          "execution_count": 24
        }
      ]
    },
    {
      "cell_type": "markdown",
      "source": [
        "# 3.2.6 Sets, frozensets"
      ],
      "metadata": {
        "id": "dBKo1m3jjiH0"
      }
    },
    {
      "cell_type": "code",
      "source": [
        "x = set([1, 2, 3, 1, 3, 5])\n",
        "print(x)\n",
        "\n",
        "print(1 in x)\n",
        "4 in x\n",
        "\n"
      ],
      "metadata": {
        "colab": {
          "base_uri": "https://localhost:8080/"
        },
        "id": "3lp0lgQpjj2E",
        "outputId": "b0db5a48-f3d0-4ea4-f0c0-88a85145da04"
      },
      "execution_count": 27,
      "outputs": [
        {
          "output_type": "stream",
          "name": "stdout",
          "text": [
            "{1, 2, 3, 5}\n",
            "True\n"
          ]
        },
        {
          "output_type": "execute_result",
          "data": {
            "text/plain": [
              "False"
            ]
          },
          "metadata": {},
          "execution_count": 27
        }
      ]
    },
    {
      "cell_type": "markdown",
      "source": [
        "# 3.2.7 File objects"
      ],
      "metadata": {
        "id": "wwCpgksRkROw"
      }
    },
    {
      "cell_type": "code",
      "source": [
        "f = open(\"myfile\", \"w\")\n",
        "f.write(\"First line with necessary newline character\\n\")\n",
        "f.write(\"Second line to write to the file\\n\")\n",
        "\n",
        "f.close()\n",
        "f = open(\"myfile\", \"r\")\n",
        "line1 = f.readline()\n",
        "line2 = f.readline()\n",
        "f.close()\n",
        "print(line1, line2)\n",
        "\n",
        "\n",
        "import os\n",
        "directory = os.getcwd()\n",
        "print(directory)\n",
        "\n",
        "\n",
        "\n",
        "filename = os.path.join(directory, \"myfile\")\n",
        "print(filename)\n",
        "\n",
        "f = open(filename, \"r\")\n",
        "print(f.readline())\n",
        "\n",
        "\n",
        "f.close()"
      ],
      "metadata": {
        "colab": {
          "base_uri": "https://localhost:8080/"
        },
        "id": "e8QmY4efkTG6",
        "outputId": "35b27e8c-1cd4-4282-92c0-76bc8f93f581"
      },
      "execution_count": 3,
      "outputs": [
        {
          "output_type": "stream",
          "name": "stdout",
          "text": [
            "First line with necessary newline character\n",
            " Second line to write to the file\n",
            "\n",
            "/content\n",
            "/content/myfile\n",
            "First line with necessary newline character\n",
            "\n"
          ]
        }
      ]
    },
    {
      "cell_type": "markdown",
      "source": [
        "# 3.4.2 The if-elif-else statement"
      ],
      "metadata": {
        "id": "VjYriRrVnGqF"
      }
    },
    {
      "cell_type": "code",
      "source": [
        "x = 5\n",
        "if x < 5:\n",
        "    y = -1\n",
        "    z = 5\n",
        "elif x > 5:\n",
        "    y = 1\n",
        "    z = 11\n",
        "else:\n",
        "    y = 0\n",
        "    z = 10\n",
        "print(x, y, z)"
      ],
      "metadata": {
        "colab": {
          "base_uri": "https://localhost:8080/"
        },
        "id": "RYnkMsSenIex",
        "outputId": "144db37e-d318-4b90-e3a5-160750f6ef23"
      },
      "execution_count": 29,
      "outputs": [
        {
          "output_type": "stream",
          "name": "stdout",
          "text": [
            "5 0 10\n"
          ]
        }
      ]
    },
    {
      "cell_type": "markdown",
      "source": [
        "# 3.4.3 Structural pattern matching with match"
      ],
      "metadata": {
        "id": "svfpZfDIoAB4"
      }
    },
    {
      "cell_type": "code",
      "source": [
        "# point is an (x, y) tuple\n",
        "point = (0,10)\n",
        "match point:\n",
        " case (0, 0):\n",
        "  print(\"Origin\")\n",
        " case (0, y):\n",
        "  print(f\"Y={y}\")\n",
        " case (x, 0):\n",
        "  print(f\"X={x}\")\n",
        " case (x, y):\n",
        "  print(f\"X={x}, Y={y}\")\n",
        " case _:\n",
        "  raise ValueError(\"Not a point\")"
      ],
      "metadata": {
        "colab": {
          "base_uri": "https://localhost:8080/"
        },
        "id": "p_HuNXlroCRm",
        "outputId": "4e6a089c-b354-490f-f1ce-a8a5bd3b0346"
      },
      "execution_count": 33,
      "outputs": [
        {
          "output_type": "stream",
          "name": "stdout",
          "text": [
            "Y=10\n"
          ]
        }
      ]
    },
    {
      "cell_type": "markdown",
      "source": [
        "# 3.4.4 The while loop"
      ],
      "metadata": {
        "id": "GCoyymgHrfVs"
      }
    },
    {
      "cell_type": "markdown",
      "source": [
        "El `while` bucle se ejecuta mientras la condición (que aquí es `x > y`) sea `True`"
      ],
      "metadata": {
        "id": "HlNKW3Cs0jIw"
      }
    },
    {
      "cell_type": "code",
      "source": [
        "u, v, x, y = 0, 0, 100, 30\n",
        "while x > y:\n",
        "    u = u + y\n",
        "    x = x - y\n",
        "    if x < y + 2:\n",
        "        v = v + x\n",
        "        x = 0\n",
        "    else:\n",
        "        v = v + y + 2\n",
        "        x = x - y - 2\n",
        "print(u, v)"
      ],
      "metadata": {
        "colab": {
          "base_uri": "https://localhost:8080/"
        },
        "id": "qR3sLBCSrhAa",
        "outputId": "266ce1e8-c587-408c-897c-85bd673dd4c7"
      },
      "execution_count": 34,
      "outputs": [
        {
          "output_type": "stream",
          "name": "stdout",
          "text": [
            "60 40\n"
          ]
        }
      ]
    },
    {
      "cell_type": "markdown",
      "source": [
        "# 3.4.5 The for loop"
      ],
      "metadata": {
        "id": "0MwhtUe2039E"
      }
    },
    {
      "cell_type": "code",
      "source": [
        "item_list = [3, \"string1\", 23, 14.0, \"string2\", 49, 64, 70]\n",
        "for x in item_list:\n",
        "    if not isinstance(x, int):\n",
        "        continue\n",
        "    if not x % 7:\n",
        "        print(f\"found an integer divisible by seven: {x}\")\n",
        "        break"
      ],
      "metadata": {
        "colab": {
          "base_uri": "https://localhost:8080/"
        },
        "id": "DHsayDg-07ps",
        "outputId": "bf010347-b9d0-4423-c288-b3a01cfc0e79"
      },
      "execution_count": 35,
      "outputs": [
        {
          "output_type": "stream",
          "name": "stdout",
          "text": [
            "found an integer divisible by seven: 49\n"
          ]
        }
      ]
    },
    {
      "cell_type": "markdown",
      "source": [
        "# 3.4.6 Function definition"
      ],
      "metadata": {
        "id": "Kjwz3gmN1ckY"
      }
    },
    {
      "cell_type": "code",
      "source": [
        "def funct1(x, y, z):\n",
        "    value = x + 2*y + z**2\n",
        "    if value > 0:\n",
        "        return x + 2*y + z**2\n",
        "    else:\n",
        "        return 0\n",
        "\n",
        "u, v = 3, 4\n",
        "funct1(u, v, 2)\n",
        "\n",
        "\n",
        "\n",
        "funct1(u, z=v, y=2)\n",
        "\n",
        "\n",
        "\n",
        "def funct2(x, y=1, z=1):\n",
        "  return x + 2 * y + z ** 2\n",
        "\n",
        "funct2(3, z=4)\n",
        "\n",
        "\n",
        "\n",
        "def funct3(x, y=1, z=1, *tup):\n",
        "  print((x, y, z) + tup)\n",
        "\n",
        "funct3(2)\n",
        "\n",
        "\n",
        "\n",
        "funct3(1, 2, 3, 4, 5, 6, 7, 8, 9)\n",
        "\n",
        "\n",
        "\n",
        "def funct4(x, y=1, z=1, **kwargs):\n",
        "  print(x, y, z, kwargs)\n",
        "funct4(1, 2, m=5, n=9, z=3)\n",
        "\n"
      ],
      "metadata": {
        "colab": {
          "base_uri": "https://localhost:8080/"
        },
        "id": "vX3WuyTy1e0p",
        "outputId": "9baf34c8-8e48-4eb8-aa86-9d0d4a5b54c1"
      },
      "execution_count": 37,
      "outputs": [
        {
          "output_type": "stream",
          "name": "stdout",
          "text": [
            "15\n",
            "(2, 1, 1)\n",
            "(1, 2, 3, 4, 5, 6, 7, 8, 9)\n",
            "1 2 3 {'m': 5, 'n': 9}\n"
          ]
        }
      ]
    },
    {
      "cell_type": "markdown",
      "source": [
        "# 3.4.7 Exceptions"
      ],
      "metadata": {
        "id": "puRlrf5c2hNi"
      }
    },
    {
      "cell_type": "code",
      "source": [
        "class EmptyFileError(Exception):\n",
        "    pass\n",
        "with open(\"empty_file\",\"w\") as file_empty:\n",
        "  print(f\"create file empty\")\n",
        "filenames = [\"myfile\",\"myfile1.txt\", \"non_existent\", \"empty_file\", \"myfile2.txt\"]\n",
        "for file in filenames:\n",
        "    try:\n",
        "        f = open(file, 'r')\n",
        "        line = f.readline()\n",
        "        if line == \"\":\n",
        "            f.close()\n",
        "            raise EmptyFileError(f\"{file}: is empty\")\n",
        "    except IOError as error:\n",
        "        print(f\"{file}: could not be opened: {error.strerror}\")\n",
        "    except EmptyFileError as error:\n",
        "        print(error)\n",
        "    else:\n",
        "        print(f\"{file}: {line}\")\n",
        "    finally:\n",
        "        print(\"Done processing\", file)"
      ],
      "metadata": {
        "colab": {
          "base_uri": "https://localhost:8080/"
        },
        "id": "7g3zTyKv2jEd",
        "outputId": "8a4fcbb6-bf2b-4e13-a5a1-12358b65fd29"
      },
      "execution_count": 2,
      "outputs": [
        {
          "output_type": "stream",
          "name": "stdout",
          "text": [
            "create file empty\n",
            "myfile: could not be opened: No such file or directory\n",
            "Done processing myfile\n",
            "myfile1.txt: could not be opened: No such file or directory\n",
            "Done processing myfile1.txt\n",
            "non_existent: could not be opened: No such file or directory\n",
            "Done processing non_existent\n",
            "empty_file: is empty\n",
            "Done processing empty_file\n",
            "myfile2.txt: could not be opened: No such file or directory\n",
            "Done processing myfile2.txt\n"
          ]
        }
      ]
    },
    {
      "cell_type": "markdown",
      "source": [
        "# 3.4.8 Context handling using the with keyword"
      ],
      "metadata": {
        "id": "CNALY_RQ6DsB"
      }
    },
    {
      "cell_type": "code",
      "source": [
        "filename = \"myfile1.txt\"\n",
        "with open(filename, \"r\") as f:\n",
        "    for line in f:\n",
        "        print(line)"
      ],
      "metadata": {
        "colab": {
          "base_uri": "https://localhost:8080/",
          "height": 193
        },
        "id": "IKqCA5Hn6FoD",
        "outputId": "29f0a591-c463-46f3-8df9-c5165afb1cb7"
      },
      "execution_count": 52,
      "outputs": [
        {
          "output_type": "error",
          "ename": "FileNotFoundError",
          "evalue": "[Errno 2] No such file or directory: 'myfile1.txt'",
          "traceback": [
            "\u001b[0;31m---------------------------------------------------------------------------\u001b[0m",
            "\u001b[0;31mFileNotFoundError\u001b[0m                         Traceback (most recent call last)",
            "\u001b[0;32m<ipython-input-52-b68ec312ac53>\u001b[0m in \u001b[0;36m<cell line: 2>\u001b[0;34m()\u001b[0m\n\u001b[1;32m      1\u001b[0m \u001b[0mfilename\u001b[0m \u001b[0;34m=\u001b[0m \u001b[0;34m\"myfile1.txt\"\u001b[0m\u001b[0;34m\u001b[0m\u001b[0;34m\u001b[0m\u001b[0m\n\u001b[0;32m----> 2\u001b[0;31m \u001b[0;32mwith\u001b[0m \u001b[0mopen\u001b[0m\u001b[0;34m(\u001b[0m\u001b[0mfilename\u001b[0m\u001b[0;34m,\u001b[0m \u001b[0;34m\"r\"\u001b[0m\u001b[0;34m)\u001b[0m \u001b[0;32mas\u001b[0m \u001b[0mf\u001b[0m\u001b[0;34m:\u001b[0m\u001b[0;34m\u001b[0m\u001b[0;34m\u001b[0m\u001b[0m\n\u001b[0m\u001b[1;32m      3\u001b[0m     \u001b[0;32mfor\u001b[0m \u001b[0mline\u001b[0m \u001b[0;32min\u001b[0m \u001b[0mf\u001b[0m\u001b[0;34m:\u001b[0m\u001b[0;34m\u001b[0m\u001b[0;34m\u001b[0m\u001b[0m\n\u001b[1;32m      4\u001b[0m         \u001b[0mprint\u001b[0m\u001b[0;34m(\u001b[0m\u001b[0mline\u001b[0m\u001b[0;34m)\u001b[0m\u001b[0;34m\u001b[0m\u001b[0;34m\u001b[0m\u001b[0m\n",
            "\u001b[0;31mFileNotFoundError\u001b[0m: [Errno 2] No such file or directory: 'myfile1.txt'"
          ]
        }
      ]
    },
    {
      "cell_type": "markdown",
      "source": [
        " Ese código es equivalente a este código:"
      ],
      "metadata": {
        "id": "9J452pSX6g5p"
      }
    },
    {
      "cell_type": "code",
      "source": [
        "filename = \"myfile1.txt\"\n",
        "try:\n",
        "    f = open(filename, \"r\")\n",
        "    for line in f:\n",
        "        print(line)\n",
        "except Exception as e:\n",
        "    raise e\n",
        "finally:\n",
        "    f.close()"
      ],
      "metadata": {
        "colab": {
          "base_uri": "https://localhost:8080/",
          "height": 332
        },
        "id": "xJXPHU5f6fh4",
        "outputId": "4dc6e6e9-1f2a-444f-8af9-912f61af6a5f"
      },
      "execution_count": 53,
      "outputs": [
        {
          "output_type": "error",
          "ename": "FileNotFoundError",
          "evalue": "[Errno 2] No such file or directory: 'myfile1.txt'",
          "traceback": [
            "\u001b[0;31m---------------------------------------------------------------------------\u001b[0m",
            "\u001b[0;31mFileNotFoundError\u001b[0m                         Traceback (most recent call last)",
            "\u001b[0;32m<ipython-input-53-96882f3da4d9>\u001b[0m in \u001b[0;36m<cell line: 2>\u001b[0;34m()\u001b[0m\n\u001b[1;32m      5\u001b[0m         \u001b[0mprint\u001b[0m\u001b[0;34m(\u001b[0m\u001b[0mline\u001b[0m\u001b[0;34m)\u001b[0m\u001b[0;34m\u001b[0m\u001b[0;34m\u001b[0m\u001b[0m\n\u001b[1;32m      6\u001b[0m \u001b[0;32mexcept\u001b[0m \u001b[0mException\u001b[0m \u001b[0;32mas\u001b[0m \u001b[0me\u001b[0m\u001b[0;34m:\u001b[0m\u001b[0;34m\u001b[0m\u001b[0;34m\u001b[0m\u001b[0m\n\u001b[0;32m----> 7\u001b[0;31m     \u001b[0;32mraise\u001b[0m \u001b[0me\u001b[0m\u001b[0;34m\u001b[0m\u001b[0;34m\u001b[0m\u001b[0m\n\u001b[0m\u001b[1;32m      8\u001b[0m \u001b[0;32mfinally\u001b[0m\u001b[0;34m:\u001b[0m\u001b[0;34m\u001b[0m\u001b[0;34m\u001b[0m\u001b[0m\n\u001b[1;32m      9\u001b[0m     \u001b[0mf\u001b[0m\u001b[0;34m.\u001b[0m\u001b[0mclose\u001b[0m\u001b[0;34m(\u001b[0m\u001b[0;34m)\u001b[0m\u001b[0;34m\u001b[0m\u001b[0;34m\u001b[0m\u001b[0m\n",
            "\u001b[0;32m<ipython-input-53-96882f3da4d9>\u001b[0m in \u001b[0;36m<cell line: 2>\u001b[0;34m()\u001b[0m\n\u001b[1;32m      1\u001b[0m \u001b[0mfilename\u001b[0m \u001b[0;34m=\u001b[0m \u001b[0;34m\"myfile1.txt\"\u001b[0m\u001b[0;34m\u001b[0m\u001b[0;34m\u001b[0m\u001b[0m\n\u001b[1;32m      2\u001b[0m \u001b[0;32mtry\u001b[0m\u001b[0;34m:\u001b[0m\u001b[0;34m\u001b[0m\u001b[0;34m\u001b[0m\u001b[0m\n\u001b[0;32m----> 3\u001b[0;31m     \u001b[0mf\u001b[0m \u001b[0;34m=\u001b[0m \u001b[0mopen\u001b[0m\u001b[0;34m(\u001b[0m\u001b[0mfilename\u001b[0m\u001b[0;34m,\u001b[0m \u001b[0;34m\"r\"\u001b[0m\u001b[0;34m)\u001b[0m\u001b[0;34m\u001b[0m\u001b[0;34m\u001b[0m\u001b[0m\n\u001b[0m\u001b[1;32m      4\u001b[0m     \u001b[0;32mfor\u001b[0m \u001b[0mline\u001b[0m \u001b[0;32min\u001b[0m \u001b[0mf\u001b[0m\u001b[0;34m:\u001b[0m\u001b[0;34m\u001b[0m\u001b[0;34m\u001b[0m\u001b[0m\n\u001b[1;32m      5\u001b[0m         \u001b[0mprint\u001b[0m\u001b[0;34m(\u001b[0m\u001b[0mline\u001b[0m\u001b[0;34m)\u001b[0m\u001b[0;34m\u001b[0m\u001b[0;34m\u001b[0m\u001b[0m\n",
            "\u001b[0;31mFileNotFoundError\u001b[0m: [Errno 2] No such file or directory: 'myfile1.txt'"
          ]
        }
      ]
    },
    {
      "cell_type": "code",
      "source": [
        "\"\"\"wo module. Contains function: words_occur()\"\"\"\n",
        "# interface functions\n",
        "def words_occur():\n",
        "    \"\"\"words_occur() - count the occurrences of words in a file.\"\"\"\n",
        "    # Prompt user for the name of the file to use.\n",
        "    file_name = input(\"Enter the name of the file: \")\n",
        "    # Open the file, read it and store its words in a list.\n",
        "    f = open(file_name, 'r')\n",
        "    word_list = f.read().split()\n",
        "    f.close()\n",
        "    # Count the number of occurrences of each word in the file.\n",
        "    occurs_dict = {}\n",
        "    for word in word_list:\n",
        "        # increment the occurrences count for this word\n",
        "        occurs_dict[word] = occurs_dict.get(word, 0) + 1\n",
        "    # Print out the results.\n",
        "    print(f\"File {file_name} has {len(word_list)} words ({len(occurs_dict)} are unique)\")\n",
        "    print(occurs_dict)\n",
        "if __name__ == '__main__':\n",
        "    words_occur()"
      ],
      "metadata": {
        "colab": {
          "base_uri": "https://localhost:8080/"
        },
        "id": "kwQoivrksjXt",
        "outputId": "72d50a15-f377-433c-8fb3-e8513a926d1d"
      },
      "execution_count": 4,
      "outputs": [
        {
          "output_type": "stream",
          "name": "stdout",
          "text": [
            "Enter the name of the file: myfile\n",
            "File myfile has 13 words (11 are unique)\n",
            "{'First': 1, 'line': 2, 'with': 1, 'necessary': 1, 'newline': 1, 'character': 1, 'Second': 1, 'to': 2, 'write': 1, 'the': 1, 'file': 1}\n"
          ]
        }
      ]
    },
    {
      "cell_type": "code",
      "source": [
        "\"\"\"shape module. Contains classes Shape, Square and Circle\"\"\"\n",
        "class Shape:\n",
        "    \"\"\"Shape class: has method move\"\"\"\n",
        "    def __init__(self, x, y):\n",
        "        self.x = x\n",
        "        self.y = y\n",
        "    def move(self, deltaX, deltaY):\n",
        "        self.x = self.x + deltaX\n",
        "        self.y = self.y + deltaY\n",
        "class Square(Shape):\n",
        "    \"\"\"Square Class:inherits from Shape\"\"\"\n",
        "    def __init__(self, side=1, x=0, y=0):\n",
        "        Shape.__init__(self, x, y)\n",
        "        self.side = side\n",
        "class Circle(Shape):\n",
        "    \"\"\"Circle Class: inherits from Shape and has method area\"\"\"\n",
        "    PI = 3.14159\n",
        "    def __init__(self, r=1, x=0, y=0):\n",
        "        Shape.__init__(self, x, y)\n",
        "        self.radius = r\n",
        "    def area(self):\n",
        "        \"\"\"Circle area method: returns the area of the circle.\"\"\"\n",
        "        return self.radius * self.radius * self.PI\n",
        "    def __str__(self):\n",
        "        return f\"Circle of radius {self.radius} at ({self.x}, {self.y})\""
      ],
      "metadata": {
        "id": "gzZw5_jcu3GF"
      },
      "execution_count": 7,
      "outputs": []
    },
    {
      "cell_type": "code",
      "source": [
        "c1 = Circle()\n",
        "c2 = Circle(5, 15, 20)\n",
        "print(c1)\n",
        "\n",
        "print(c2)\n",
        "\n",
        "c2.area()\n",
        "\n",
        "c2.move(5,6)\n",
        "print(c2)"
      ],
      "metadata": {
        "colab": {
          "base_uri": "https://localhost:8080/"
        },
        "id": "ZtLCS6aCvukK",
        "outputId": "2b164270-53be-4320-c42b-70d6377e7eaa"
      },
      "execution_count": 8,
      "outputs": [
        {
          "output_type": "stream",
          "name": "stdout",
          "text": [
            "Circle of radius 1 at (0, 0)\n",
            "Circle of radius 5 at (15, 20)\n",
            "Circle of radius 5 at (20, 26)\n"
          ]
        }
      ]
    },
    {
      "cell_type": "code",
      "source": [
        "# This is Python code.\n",
        "n = 9\n",
        "r = 1\n",
        "while n > 0:\n",
        "    r = r * n\n",
        "    n = n - 1\n",
        "print(r)"
      ],
      "metadata": {
        "colab": {
          "base_uri": "https://localhost:8080/"
        },
        "id": "_f5mZctWxwda",
        "outputId": "b8d0f2c8-aa73-4e55-cf24-71c7e6d3f680"
      },
      "execution_count": 10,
      "outputs": [
        {
          "output_type": "stream",
          "name": "stdout",
          "text": [
            "362880\n"
          ]
        }
      ]
    },
    {
      "cell_type": "markdown",
      "source": [
        "# 4.3 Variables and assignments"
      ],
      "metadata": {
        "id": "466gv7U52HlE"
      }
    },
    {
      "cell_type": "code",
      "source": [
        "a = [1, 2, 3]\n",
        "b = a\n",
        "c = b\n",
        "c[1] = 5\n",
        "print(a, b, c)\n"
      ],
      "metadata": {
        "colab": {
          "base_uri": "https://localhost:8080/"
        },
        "id": "0y81TlP8zLo0",
        "outputId": "cf9dd8a3-97f4-40d6-8727-61553273b42a"
      },
      "execution_count": 13,
      "outputs": [
        {
          "output_type": "stream",
          "name": "stdout",
          "text": [
            "[1, 5, 3] [1, 5, 3] [1, 5, 3]\n"
          ]
        }
      ]
    },
    {
      "cell_type": "code",
      "source": [
        "a = 1\n",
        "b = a\n",
        "c = b\n",
        "b = 5\n",
        "print(a, b, c)\n"
      ],
      "metadata": {
        "colab": {
          "base_uri": "https://localhost:8080/"
        },
        "id": "3mLThVEN1BPb",
        "outputId": "376f0c5d-f7a1-4218-fdf2-590af33f606b"
      },
      "execution_count": 15,
      "outputs": [
        {
          "output_type": "stream",
          "name": "stdout",
          "text": [
            "1 5 1\n"
          ]
        }
      ]
    },
    {
      "cell_type": "code",
      "source": [
        "x = \"Hello\"\n",
        "print(x)\n",
        "\n",
        "x = 5\n",
        "print(x)"
      ],
      "metadata": {
        "colab": {
          "base_uri": "https://localhost:8080/"
        },
        "id": "HVyFC6mZ1sj4",
        "outputId": "54f9571d-1d11-4591-8072-7392b82da635"
      },
      "execution_count": 16,
      "outputs": [
        {
          "output_type": "stream",
          "name": "stdout",
          "text": [
            "Hello\n",
            "5\n"
          ]
        }
      ]
    },
    {
      "cell_type": "code",
      "source": [
        "x = 5\n",
        "print(x)\n",
        "\n",
        "5\n",
        "\n",
        "del x\n",
        "print(x)"
      ],
      "metadata": {
        "colab": {
          "base_uri": "https://localhost:8080/",
          "height": 193
        },
        "id": "6MPfNTB31w_Y",
        "outputId": "1dc48bc3-6414-4d13-ee25-291e3580b383"
      },
      "execution_count": 17,
      "outputs": [
        {
          "output_type": "stream",
          "name": "stdout",
          "text": [
            "5\n"
          ]
        },
        {
          "output_type": "error",
          "ename": "NameError",
          "evalue": "name 'x' is not defined",
          "traceback": [
            "\u001b[0;31m---------------------------------------------------------------------------\u001b[0m",
            "\u001b[0;31mNameError\u001b[0m                                 Traceback (most recent call last)",
            "\u001b[0;32m<ipython-input-17-e8339729001f>\u001b[0m in \u001b[0;36m<cell line: 7>\u001b[0;34m()\u001b[0m\n\u001b[1;32m      5\u001b[0m \u001b[0;34m\u001b[0m\u001b[0m\n\u001b[1;32m      6\u001b[0m \u001b[0;32mdel\u001b[0m \u001b[0mx\u001b[0m\u001b[0;34m\u001b[0m\u001b[0;34m\u001b[0m\u001b[0m\n\u001b[0;32m----> 7\u001b[0;31m \u001b[0mprint\u001b[0m\u001b[0;34m(\u001b[0m\u001b[0mx\u001b[0m\u001b[0;34m)\u001b[0m\u001b[0;34m\u001b[0m\u001b[0;34m\u001b[0m\u001b[0m\n\u001b[0m",
            "\u001b[0;31mNameError\u001b[0m: name 'x' is not defined"
          ]
        }
      ]
    },
    {
      "cell_type": "markdown",
      "source": [
        "# 4.4 Optional type hints in Python"
      ],
      "metadata": {
        "id": "Yz0DUDW62zDM"
      }
    },
    {
      "cell_type": "code",
      "source": [
        "# agreguemos esto a un file test_add.py\n",
        "def add_ints(x: int, y: int) -> int:\n",
        "     return x + y\n",
        "\n",
        "p: int = 2.3\n",
        "print(p)\n",
        "z = add_ints(1, 2)\n",
        "w = add_ints(1.5, 2.5)\n",
        "w"
      ],
      "metadata": {
        "colab": {
          "base_uri": "https://localhost:8080/"
        },
        "id": "lH4ikfCl20_k",
        "outputId": "68119c40-e2ea-4460-e390-d49b73de3163"
      },
      "execution_count": 21,
      "outputs": [
        {
          "output_type": "stream",
          "name": "stdout",
          "text": [
            "2.3\n"
          ]
        },
        {
          "output_type": "execute_result",
          "data": {
            "text/plain": [
              "4.0"
            ]
          },
          "metadata": {},
          "execution_count": 21
        }
      ]
    },
    {
      "cell_type": "markdown",
      "source": [
        "\n",
        "> *La notación de sugerencias de tipo se puede leer con herramientas de verificación de tipo como **mypy, pyright, pyre o pytype**, así como con varios IDE comunes, para señalar el uso de un tipo incompatible o inesperado. Si bien estas herramientas pueden informar el error, Python en sí no generará un error de tiempo de ejecución si no se siguen las sugerencias de tipo.*\n",
        "\n"
      ],
      "metadata": {
        "id": "AjHI7ISy6Qyp"
      }
    },
    {
      "cell_type": "code",
      "source": [
        "!pip install mypy"
      ],
      "metadata": {
        "colab": {
          "base_uri": "https://localhost:8080/"
        },
        "id": "9gSe0oMS5i9N",
        "outputId": "c1ab770d-3fd3-420d-a94f-d5d843f9797d"
      },
      "execution_count": 23,
      "outputs": [
        {
          "output_type": "stream",
          "name": "stdout",
          "text": [
            "Collecting mypy\n",
            "  Downloading mypy-1.11.1-cp310-cp310-manylinux_2_17_x86_64.manylinux2014_x86_64.manylinux_2_28_x86_64.whl.metadata (1.9 kB)\n",
            "Requirement already satisfied: typing-extensions>=4.6.0 in /usr/local/lib/python3.10/dist-packages (from mypy) (4.12.2)\n",
            "Collecting mypy-extensions>=1.0.0 (from mypy)\n",
            "  Downloading mypy_extensions-1.0.0-py3-none-any.whl.metadata (1.1 kB)\n",
            "Requirement already satisfied: tomli>=1.1.0 in /usr/local/lib/python3.10/dist-packages (from mypy) (2.0.1)\n",
            "Downloading mypy-1.11.1-cp310-cp310-manylinux_2_17_x86_64.manylinux2014_x86_64.manylinux_2_28_x86_64.whl (12.5 MB)\n",
            "\u001b[2K   \u001b[90m━━━━━━━━━━━━━━━━━━━━━━━━━━━━━━━━━━━━━━━━\u001b[0m \u001b[32m12.5/12.5 MB\u001b[0m \u001b[31m69.3 MB/s\u001b[0m eta \u001b[36m0:00:00\u001b[0m\n",
            "\u001b[?25hDownloading mypy_extensions-1.0.0-py3-none-any.whl (4.7 kB)\n",
            "Installing collected packages: mypy-extensions, mypy\n",
            "Successfully installed mypy-1.11.1 mypy-extensions-1.0.0\n"
          ]
        }
      ]
    },
    {
      "cell_type": "code",
      "source": [
        "! mypy test_add.py"
      ],
      "metadata": {
        "colab": {
          "base_uri": "https://localhost:8080/"
        },
        "id": "fKV_pyrH55vd",
        "outputId": "8d9c895b-1c60-4efd-8092-bb9f4cb12ba1"
      },
      "execution_count": 24,
      "outputs": [
        {
          "output_type": "stream",
          "name": "stdout",
          "text": [
            "test_add.py:4: \u001b[1m\u001b[31merror:\u001b[m Incompatible types in assignment (expression has type \u001b[m\u001b[1m\"float\"\u001b[m, variable has type \u001b[m\u001b[1m\"int\"\u001b[m)  \u001b[m\u001b[33m[assignment]\u001b[m\n",
            "test_add.py:7: \u001b[1m\u001b[31merror:\u001b[m Argument 1 to \u001b[m\u001b[1m\"add_ints\"\u001b[m has incompatible type \u001b[m\u001b[1m\"float\"\u001b[m; expected \u001b[m\u001b[1m\"int\"\u001b[m  \u001b[m\u001b[33m[arg-type]\u001b[m\n",
            "test_add.py:7: \u001b[1m\u001b[31merror:\u001b[m Argument 2 to \u001b[m\u001b[1m\"add_ints\"\u001b[m has incompatible type \u001b[m\u001b[1m\"float\"\u001b[m; expected \u001b[m\u001b[1m\"int\"\u001b[m  \u001b[m\u001b[33m[arg-type]\u001b[m\n",
            "\u001b[1m\u001b[31mFound 3 errors in 1 file (checked 1 source file)\u001b[m\n"
          ]
        }
      ]
    },
    {
      "cell_type": "markdown",
      "source": [
        "# 4.4.1 ¿Por qué utilizar sugerencias de tipos?"
      ],
      "metadata": {
        "id": "VYPen5hf9-xh"
      }
    },
    {
      "cell_type": "markdown",
      "source": [
        "\n",
        "\n",
        "> Una de las razones por las que se utilizan cada vez más las sugerencias de tipo es que ayudan a reducir la confusión sobre qué tipo se espera en muchas situaciones. En una base de código grande, puede resultar especialmente frustrante buscar un error en el que se devuelva un tipo de objeto inesperado. Las sugerencias de tipo permiten detectar y solucionar muchas de estas situaciones antes del tiempo de ejecución. La información de tipo también permite que muchos editores e IDE adviertan sobre estos errores y sugieran alternativas adecuadas durante el proceso de codificación\n",
        "\n"
      ],
      "metadata": {
        "id": "7p0oxEkg-Cpk"
      }
    },
    {
      "cell_type": "markdown",
      "source": [
        "# 4.4.2 ¿Por qué no utilizar sugerencias de tipos?"
      ],
      "metadata": {
        "id": "a9q6X6ew_ifJ"
      }
    },
    {
      "cell_type": "markdown",
      "source": [
        "* En scripts más pequeños e informales puede que no valga la pena dedicar\n",
        "tiempo y esfuerzo extra para agregar sugerencias de tipo.\n",
        "\n",
        "* Intentar escribir de forma completa y explícita todo lo que aparece en un programa puede hacer que las definiciones de funciones o métodos sean más difíciles de leer. En ese caso, se debe tomar una decisión sobre el equilibrio entre la legibilidad humana y la integridad de la escritura.\n",
        "\n",
        "* Tenga cuidado de no adentrarse demasiado en el mundo de las sugerencias de tipos. Pasar demasiado tiempo obsesionado con sugerencias de tipos detalladas puede no ser productivo.\n",
        "\n",
        "* Volver atrás y cambiar el código funcional únicamente para agregar sugerencias de tipo tampoco es la mejor manera de invertir el tiempo. Por lo general, es más prudente dejar el código funcional tal como está, a menos que tenga una buena razón para cambiarlo. Agregar sugerencias de tipo se puede hacer en el transcurso de otro mantenimiento o refactorización."
      ],
      "metadata": {
        "id": "5XyIwRyH_CaE"
      }
    },
    {
      "cell_type": "markdown",
      "source": [
        "# 4.5 Expressions"
      ],
      "metadata": {
        "id": "XIx0Fi-nBCTE"
      }
    },
    {
      "cell_type": "code",
      "source": [
        "x = 3\n",
        "y = 5\n",
        "z = (x + y) / 2"
      ],
      "metadata": {
        "id": "PIf4cGchBEVT"
      },
      "execution_count": 26,
      "outputs": []
    },
    {
      "cell_type": "markdown",
      "source": [
        "# 4.6 Strings"
      ],
      "metadata": {
        "id": "4SSbdSJIBOGD"
      }
    },
    {
      "cell_type": "code",
      "source": [
        "x = \"Hello, World\"\n",
        "x"
      ],
      "metadata": {
        "colab": {
          "base_uri": "https://localhost:8080/",
          "height": 35
        },
        "id": "T5P7yaR-BPoU",
        "outputId": "4e5b076b-f312-4f3a-87f5-22ee55c5b51d"
      },
      "execution_count": 27,
      "outputs": [
        {
          "output_type": "execute_result",
          "data": {
            "text/plain": [
              "'Hello, World'"
            ],
            "application/vnd.google.colaboratory.intrinsic+json": {
              "type": "string"
            }
          },
          "metadata": {},
          "execution_count": 27
        }
      ]
    },
    {
      "cell_type": "code",
      "source": [
        "x = \"\\tThis string starts with a \\\"tab\\\".\"\n",
        "print(x)\n",
        "x = \"This string contains a single backslash(\\\\).\"\n",
        "x"
      ],
      "metadata": {
        "colab": {
          "base_uri": "https://localhost:8080/",
          "height": 53
        },
        "id": "lFJfR8xVBXC5",
        "outputId": "b53e8232-051b-4755-b718-e2306d442f00"
      },
      "execution_count": 30,
      "outputs": [
        {
          "output_type": "stream",
          "name": "stdout",
          "text": [
            "\tThis string starts with a \"tab\".\n"
          ]
        },
        {
          "output_type": "execute_result",
          "data": {
            "text/plain": [
              "'This string contains a single backslash(\\\\).'"
            ],
            "application/vnd.google.colaboratory.intrinsic+json": {
              "type": "string"
            }
          },
          "metadata": {},
          "execution_count": 30
        }
      ]
    },
    {
      "cell_type": "code",
      "source": [
        "x = \"Hello, World\"\n",
        "x = 'Hello, World'"
      ],
      "metadata": {
        "id": "HKpNlziCBln6"
      },
      "execution_count": 31,
      "outputs": []
    },
    {
      "cell_type": "code",
      "source": [
        "# This Python code will cause an ERROR -- you can't\n",
        "# split the string across two lines.\n",
        "x = \"This is a misguided attempt to\n",
        "put a newline into a string without using backslash-n\""
      ],
      "metadata": {
        "colab": {
          "base_uri": "https://localhost:8080/",
          "height": 106
        },
        "id": "kElQOJ3sBnFh",
        "outputId": "36f45712-6cbd-4b48-9234-905de2819807"
      },
      "execution_count": 32,
      "outputs": [
        {
          "output_type": "error",
          "ename": "SyntaxError",
          "evalue": "unterminated string literal (detected at line 3) (<ipython-input-32-105495cf7241>, line 3)",
          "traceback": [
            "\u001b[0;36m  File \u001b[0;32m\"<ipython-input-32-105495cf7241>\"\u001b[0;36m, line \u001b[0;32m3\u001b[0m\n\u001b[0;31m    x = \"This is a misguided attempt to\u001b[0m\n\u001b[0m        ^\u001b[0m\n\u001b[0;31mSyntaxError\u001b[0m\u001b[0;31m:\u001b[0m unterminated string literal (detected at line 3)\n"
          ]
        }
      ]
    },
    {
      "cell_type": "markdown",
      "source": [
        "\n",
        "\n",
        "> Pero Python ofrece cadenas entre comillas triples, que le permiten tener cadenas de varias líneas e incluir comillas simples y dobles sin barras invertidas:\n",
        "\n"
      ],
      "metadata": {
        "id": "JHpDrqHqB1yi"
      }
    },
    {
      "cell_type": "code",
      "source": [
        "x = \"\"\"Starting and ending a string with triple \" or ' characters\n",
        "permits embedded newlines, and the use of \" and ' without\n",
        "backslashes\"\"\"\n",
        "print(x)"
      ],
      "metadata": {
        "colab": {
          "base_uri": "https://localhost:8080/"
        },
        "id": "7eHd4rD6B50Y",
        "outputId": "79f9fa2c-dbc2-4c5d-b842-df31f20c5996"
      },
      "execution_count": 38,
      "outputs": [
        {
          "output_type": "stream",
          "name": "stdout",
          "text": [
            "Starting and ending a string with triple \" or ' characters\n",
            "permits embedded newlines, and the use of \" and ' without\n",
            "backslashes\n"
          ]
        }
      ]
    },
    {
      "cell_type": "markdown",
      "source": [
        "# 4.7 Numbers"
      ],
      "metadata": {
        "id": "n1w_swM3CXOo"
      }
    },
    {
      "cell_type": "code",
      "source": [
        "x = 5 + 2 - 3 * 2\n",
        "print(x)\n",
        "print(type(x))\n",
        "\n",
        "x = 5 / 2 # floating-point result with normal division\n",
        "print(x)\n",
        "print(type(x))\n",
        "\n",
        "x = 2.5\n",
        "print(x)\n",
        "print(type(x))\n",
        "\n",
        "x = 5 / 2.0 # also a floating-point result\n",
        "print(x)\n",
        "print(type(x))\n",
        "\n",
        "\n",
        "x = 2.5\n",
        "print(x)\n",
        "print(type(x))\n",
        "\n",
        "x = 5 // 2 # integer result with truncation when divided using '//'\n",
        "print(x)\n",
        "print(type(x))\n",
        "\n",
        "\n",
        "x = 30000000000 # This would be too large to be an int in many languages\n",
        "print(x)\n",
        "print(type(x))\n",
        "\n",
        "\n",
        "x = 30000000000 * 3\n",
        "print(x)\n",
        "print(type(x))\n",
        "\n",
        "\n",
        "x = 30000000000 * 3.0\n",
        "print(x)\n",
        "print(type(x))\n",
        "\n",
        "\n",
        "x = 2.0e-8 # Scientific notation gives back a float\n",
        "print(x)\n",
        "print(type(x))\n",
        "\n",
        "\n",
        "x = 3000000 * 3000000\n",
        "print(x)\n",
        "print(type(x))\n",
        "\n",
        "\n",
        "x = int(200.2)\n",
        "print(x)\n",
        "print(type(x))\n",
        "\n",
        "\n",
        "\n",
        "x = int(2e2)\n",
        "print(x)\n",
        "print(type(x))\n",
        "\n",
        "\n",
        "float(200)\n",
        "\n"
      ],
      "metadata": {
        "colab": {
          "base_uri": "https://localhost:8080/"
        },
        "id": "MzWZp1S2CZDC",
        "outputId": "e3539d88-7c5f-4d91-9605-d8411d067863"
      },
      "execution_count": 42,
      "outputs": [
        {
          "output_type": "stream",
          "name": "stdout",
          "text": [
            "1\n",
            "<class 'int'>\n",
            "2.5\n",
            "<class 'float'>\n",
            "2.5\n",
            "<class 'float'>\n",
            "2.5\n",
            "<class 'float'>\n",
            "2.5\n",
            "<class 'float'>\n",
            "2\n",
            "<class 'int'>\n",
            "30000000000\n",
            "<class 'int'>\n",
            "90000000000\n",
            "<class 'int'>\n",
            "90000000000.0\n",
            "<class 'float'>\n",
            "2e-08\n",
            "<class 'float'>\n",
            "9000000000000\n",
            "<class 'int'>\n",
            "200\n",
            "<class 'int'>\n",
            "200\n",
            "<class 'int'>\n"
          ]
        },
        {
          "output_type": "execute_result",
          "data": {
            "text/plain": [
              "200.0"
            ]
          },
          "metadata": {},
          "execution_count": 42
        }
      ]
    },
    {
      "cell_type": "markdown",
      "source": [
        "# 4.7.1 Built-in numeric functions"
      ],
      "metadata": {
        "id": "_9SW1MdXDy8i"
      }
    },
    {
      "cell_type": "code",
      "source": [
        "abs, divmod, float, hex, int, max, min, oct,\n",
        "pow, round"
      ],
      "metadata": {
        "colab": {
          "base_uri": "https://localhost:8080/"
        },
        "id": "7QtQVlJbD0aA",
        "outputId": "17bbd249-023a-4614-d7b1-1a72440937aa"
      },
      "execution_count": 43,
      "outputs": [
        {
          "output_type": "execute_result",
          "data": {
            "text/plain": [
              "(<function pow(base, exp, mod=None)>, <function round(number, ndigits=None)>)"
            ]
          },
          "metadata": {},
          "execution_count": 43
        }
      ]
    },
    {
      "cell_type": "code",
      "source": [
        "abs(-10)"
      ],
      "metadata": {
        "colab": {
          "base_uri": "https://localhost:8080/"
        },
        "id": "e9JSV0c9D6Zx",
        "outputId": "96b56d19-c066-4574-f50f-805e30479aca"
      },
      "execution_count": 44,
      "outputs": [
        {
          "output_type": "execute_result",
          "data": {
            "text/plain": [
              "10"
            ]
          },
          "metadata": {},
          "execution_count": 44
        }
      ]
    },
    {
      "cell_type": "code",
      "source": [
        "help(divmod)\n",
        "mod = divmod(11,2)\n",
        "print(mod)\n",
        "print(type(mod))\n"
      ],
      "metadata": {
        "colab": {
          "base_uri": "https://localhost:8080/"
        },
        "id": "Pv52JZEAD8_U",
        "outputId": "bba3a753-9594-43a1-cb7b-51c455da7ae7"
      },
      "execution_count": 51,
      "outputs": [
        {
          "output_type": "stream",
          "name": "stdout",
          "text": [
            "Help on built-in function divmod in module builtins:\n",
            "\n",
            "divmod(x, y, /)\n",
            "    Return the tuple (x//y, x%y).  Invariant: div*y + mod == x.\n",
            "\n",
            "(5, 1)\n",
            "<class 'tuple'>\n"
          ]
        }
      ]
    },
    {
      "cell_type": "code",
      "source": [
        "x = float(10)\n",
        "print(x)\n",
        "print(type(x))"
      ],
      "metadata": {
        "colab": {
          "base_uri": "https://localhost:8080/"
        },
        "id": "6FSUkUCCEq1c",
        "outputId": "acae937f-0b99-482a-eb47-a0bc822b2df6"
      },
      "execution_count": 54,
      "outputs": [
        {
          "output_type": "stream",
          "name": "stdout",
          "text": [
            "10.0\n",
            "<class 'float'>\n"
          ]
        }
      ]
    },
    {
      "cell_type": "code",
      "source": [
        "hex(11)"
      ],
      "metadata": {
        "colab": {
          "base_uri": "https://localhost:8080/",
          "height": 35
        },
        "id": "Z-36TbiuEyut",
        "outputId": "ec0a0728-89c2-4d86-ea5b-563d729cd64b"
      },
      "execution_count": 57,
      "outputs": [
        {
          "output_type": "execute_result",
          "data": {
            "text/plain": [
              "'0xb'"
            ],
            "application/vnd.google.colaboratory.intrinsic+json": {
              "type": "string"
            }
          },
          "metadata": {},
          "execution_count": 57
        }
      ]
    },
    {
      "cell_type": "code",
      "source": [
        "int(10.6)"
      ],
      "metadata": {
        "colab": {
          "base_uri": "https://localhost:8080/"
        },
        "id": "MDlJTM-FE4j0",
        "outputId": "042b6a6b-39c3-4c0b-dff0-02ae6e301e05"
      },
      "execution_count": 59,
      "outputs": [
        {
          "output_type": "execute_result",
          "data": {
            "text/plain": [
              "10"
            ]
          },
          "metadata": {},
          "execution_count": 59
        }
      ]
    },
    {
      "cell_type": "code",
      "source": [
        "max(5, 10, 6)"
      ],
      "metadata": {
        "colab": {
          "base_uri": "https://localhost:8080/"
        },
        "id": "VPCbi_qlE7pG",
        "outputId": "b0061e77-491e-42db-9400-4a26b9ef2f60"
      },
      "execution_count": 61,
      "outputs": [
        {
          "output_type": "execute_result",
          "data": {
            "text/plain": [
              "10"
            ]
          },
          "metadata": {},
          "execution_count": 61
        }
      ]
    },
    {
      "cell_type": "code",
      "source": [
        "min(5, 10, 6)"
      ],
      "metadata": {
        "colab": {
          "base_uri": "https://localhost:8080/"
        },
        "id": "BKhazOhmFFsF",
        "outputId": "23ecca8f-9db5-4a18-f935-95553f517c67"
      },
      "execution_count": 62,
      "outputs": [
        {
          "output_type": "execute_result",
          "data": {
            "text/plain": [
              "5"
            ]
          },
          "metadata": {},
          "execution_count": 62
        }
      ]
    },
    {
      "cell_type": "code",
      "source": [
        "oct(10)"
      ],
      "metadata": {
        "colab": {
          "base_uri": "https://localhost:8080/",
          "height": 35
        },
        "id": "uMEGW923FKjJ",
        "outputId": "d9a67327-7357-4996-95e0-4be9500e098f"
      },
      "execution_count": 63,
      "outputs": [
        {
          "output_type": "execute_result",
          "data": {
            "text/plain": [
              "'0o12'"
            ],
            "application/vnd.google.colaboratory.intrinsic+json": {
              "type": "string"
            }
          },
          "metadata": {},
          "execution_count": 63
        }
      ]
    },
    {
      "cell_type": "code",
      "source": [
        "help(pow)\n",
        "pow(2,3)"
      ],
      "metadata": {
        "colab": {
          "base_uri": "https://localhost:8080/"
        },
        "id": "ouk0XC4JFN9l",
        "outputId": "ec59dbbb-7ae8-43a5-c617-2b84d0830c8c"
      },
      "execution_count": 72,
      "outputs": [
        {
          "output_type": "stream",
          "name": "stdout",
          "text": [
            "Help on built-in function pow in module builtins:\n",
            "\n",
            "pow(base, exp, mod=None)\n",
            "    Equivalent to base**exp with 2 arguments or base**exp % mod with 3 arguments\n",
            "    \n",
            "    Some types, such as ints, are able to use a more efficient algorithm when\n",
            "    invoked using the three argument form.\n",
            "\n"
          ]
        },
        {
          "output_type": "execute_result",
          "data": {
            "text/plain": [
              "8"
            ]
          },
          "metadata": {},
          "execution_count": 72
        }
      ]
    },
    {
      "cell_type": "code",
      "source": [
        "x = round(10.6)\n",
        "print(x)\n",
        "print(type(x))\n",
        "round(10.2)"
      ],
      "metadata": {
        "colab": {
          "base_uri": "https://localhost:8080/"
        },
        "id": "2ASKFYhxFp_N",
        "outputId": "2b293358-477e-4cc1-d149-650c993bad8a"
      },
      "execution_count": 76,
      "outputs": [
        {
          "output_type": "stream",
          "name": "stdout",
          "text": [
            "11\n",
            "<class 'int'>\n"
          ]
        },
        {
          "output_type": "execute_result",
          "data": {
            "text/plain": [
              "10"
            ]
          },
          "metadata": {},
          "execution_count": 76
        }
      ]
    },
    {
      "cell_type": "markdown",
      "source": [
        "# 4.7.2 Advanced numeric functions"
      ],
      "metadata": {
        "id": "E6PZgaAiGAV5"
      }
    },
    {
      "cell_type": "code",
      "source": [
        "from math import *"
      ],
      "metadata": {
        "id": "yE01AJIXGBhJ"
      },
      "execution_count": 77,
      "outputs": []
    },
    {
      "cell_type": "code",
      "source": [
        "acos, asin, atan, atan2, ceil, cos, cosh, e, exp, fabs, floor, fmod,\n",
        "frexp, hypot, ldexp, log, log10, mod, pi, pow, sin, sinh, sqrt, tan,\n",
        "tanh"
      ],
      "metadata": {
        "colab": {
          "base_uri": "https://localhost:8080/"
        },
        "id": "bPT9oCngGEhO",
        "outputId": "13857ea9-cf64-40b4-ccfb-4b2dcfd2f1f6"
      },
      "execution_count": 78,
      "outputs": [
        {
          "output_type": "execute_result",
          "data": {
            "text/plain": [
              "<function math.tanh(x, /)>"
            ]
          },
          "metadata": {},
          "execution_count": 78
        }
      ]
    },
    {
      "cell_type": "code",
      "source": [
        "help(acos)\n",
        "acos(0.5)"
      ],
      "metadata": {
        "colab": {
          "base_uri": "https://localhost:8080/"
        },
        "id": "kFDjMSdgGIeO",
        "outputId": "274bab3d-c363-4961-d473-d62552dd00f2"
      },
      "execution_count": 86,
      "outputs": [
        {
          "output_type": "stream",
          "name": "stdout",
          "text": [
            "Help on built-in function acos in module math:\n",
            "\n",
            "acos(x, /)\n",
            "    Return the arc cosine (measured in radians) of x.\n",
            "    \n",
            "    The result is between 0 and pi.\n",
            "\n"
          ]
        },
        {
          "output_type": "execute_result",
          "data": {
            "text/plain": [
              "1.0471975511965979"
            ]
          },
          "metadata": {},
          "execution_count": 86
        }
      ]
    }
  ]
}